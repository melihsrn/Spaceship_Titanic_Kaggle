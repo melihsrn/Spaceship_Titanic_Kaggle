{
 "cells": [
  {
   "cell_type": "markdown",
   "metadata": {},
   "source": [
    "## Dataset Import"
   ]
  },
  {
   "cell_type": "code",
   "execution_count": 1,
   "metadata": {},
   "outputs": [],
   "source": [
    "%matplotlib inline\n",
    "import matplotlib.pyplot as plt\n",
    "import pandas as pd\n",
    "import numpy as np\n",
    "import scipy\n",
    "import statsmodels\n",
    "import sklearn\n",
    "from sklearn.metrics import mean_squared_error, mean_absolute_error,f1_score,precision_score,recall_score,roc_auc_score,average_precision_score,confusion_matrix,classification_report\n",
    "from sklearn.model_selection import train_test_split\n",
    "from sklearn.model_selection import cross_val_score,cross_val_predict,StratifiedKFold,RepeatedStratifiedKFold\n",
    "from sklearn.tree import DecisionTreeRegressor"
   ]
  },
  {
   "cell_type": "code",
   "execution_count": 2,
   "metadata": {},
   "outputs": [],
   "source": [
    "train = pd.read_csv('C:/Users/User/Desktop/Kaggle - Spaceship Titanic/train.csv')\n",
    "test = pd.read_csv('C:/Users/User/Desktop/Kaggle - Spaceship Titanic/test.csv')"
   ]
  },
  {
   "cell_type": "markdown",
   "metadata": {},
   "source": [
    "## Feature Engineering"
   ]
  },
  {
   "cell_type": "markdown",
   "metadata": {},
   "source": [
    "### Introducing the Data"
   ]
  },
  {
   "cell_type": "code",
   "execution_count": 3,
   "metadata": {},
   "outputs": [
    {
     "data": {
      "text/html": [
       "<div>\n",
       "<style scoped>\n",
       "    .dataframe tbody tr th:only-of-type {\n",
       "        vertical-align: middle;\n",
       "    }\n",
       "\n",
       "    .dataframe tbody tr th {\n",
       "        vertical-align: top;\n",
       "    }\n",
       "\n",
       "    .dataframe thead th {\n",
       "        text-align: right;\n",
       "    }\n",
       "</style>\n",
       "<table border=\"1\" class=\"dataframe\">\n",
       "  <thead>\n",
       "    <tr style=\"text-align: right;\">\n",
       "      <th></th>\n",
       "      <th>PassengerId</th>\n",
       "      <th>HomePlanet</th>\n",
       "      <th>CryoSleep</th>\n",
       "      <th>Cabin</th>\n",
       "      <th>Destination</th>\n",
       "      <th>Age</th>\n",
       "      <th>VIP</th>\n",
       "      <th>RoomService</th>\n",
       "      <th>FoodCourt</th>\n",
       "      <th>ShoppingMall</th>\n",
       "      <th>Spa</th>\n",
       "      <th>VRDeck</th>\n",
       "      <th>Name</th>\n",
       "      <th>Transported</th>\n",
       "    </tr>\n",
       "  </thead>\n",
       "  <tbody>\n",
       "    <tr>\n",
       "      <th>0</th>\n",
       "      <td>0001_01</td>\n",
       "      <td>Europa</td>\n",
       "      <td>False</td>\n",
       "      <td>B/0/P</td>\n",
       "      <td>TRAPPIST-1e</td>\n",
       "      <td>39.0</td>\n",
       "      <td>False</td>\n",
       "      <td>0.0</td>\n",
       "      <td>0.0</td>\n",
       "      <td>0.0</td>\n",
       "      <td>0.0</td>\n",
       "      <td>0.0</td>\n",
       "      <td>Maham Ofracculy</td>\n",
       "      <td>False</td>\n",
       "    </tr>\n",
       "    <tr>\n",
       "      <th>1</th>\n",
       "      <td>0002_01</td>\n",
       "      <td>Earth</td>\n",
       "      <td>False</td>\n",
       "      <td>F/0/S</td>\n",
       "      <td>TRAPPIST-1e</td>\n",
       "      <td>24.0</td>\n",
       "      <td>False</td>\n",
       "      <td>109.0</td>\n",
       "      <td>9.0</td>\n",
       "      <td>25.0</td>\n",
       "      <td>549.0</td>\n",
       "      <td>44.0</td>\n",
       "      <td>Juanna Vines</td>\n",
       "      <td>True</td>\n",
       "    </tr>\n",
       "    <tr>\n",
       "      <th>2</th>\n",
       "      <td>0003_01</td>\n",
       "      <td>Europa</td>\n",
       "      <td>False</td>\n",
       "      <td>A/0/S</td>\n",
       "      <td>TRAPPIST-1e</td>\n",
       "      <td>58.0</td>\n",
       "      <td>True</td>\n",
       "      <td>43.0</td>\n",
       "      <td>3576.0</td>\n",
       "      <td>0.0</td>\n",
       "      <td>6715.0</td>\n",
       "      <td>49.0</td>\n",
       "      <td>Altark Susent</td>\n",
       "      <td>False</td>\n",
       "    </tr>\n",
       "    <tr>\n",
       "      <th>3</th>\n",
       "      <td>0003_02</td>\n",
       "      <td>Europa</td>\n",
       "      <td>False</td>\n",
       "      <td>A/0/S</td>\n",
       "      <td>TRAPPIST-1e</td>\n",
       "      <td>33.0</td>\n",
       "      <td>False</td>\n",
       "      <td>0.0</td>\n",
       "      <td>1283.0</td>\n",
       "      <td>371.0</td>\n",
       "      <td>3329.0</td>\n",
       "      <td>193.0</td>\n",
       "      <td>Solam Susent</td>\n",
       "      <td>False</td>\n",
       "    </tr>\n",
       "    <tr>\n",
       "      <th>4</th>\n",
       "      <td>0004_01</td>\n",
       "      <td>Earth</td>\n",
       "      <td>False</td>\n",
       "      <td>F/1/S</td>\n",
       "      <td>TRAPPIST-1e</td>\n",
       "      <td>16.0</td>\n",
       "      <td>False</td>\n",
       "      <td>303.0</td>\n",
       "      <td>70.0</td>\n",
       "      <td>151.0</td>\n",
       "      <td>565.0</td>\n",
       "      <td>2.0</td>\n",
       "      <td>Willy Santantines</td>\n",
       "      <td>True</td>\n",
       "    </tr>\n",
       "    <tr>\n",
       "      <th>...</th>\n",
       "      <td>...</td>\n",
       "      <td>...</td>\n",
       "      <td>...</td>\n",
       "      <td>...</td>\n",
       "      <td>...</td>\n",
       "      <td>...</td>\n",
       "      <td>...</td>\n",
       "      <td>...</td>\n",
       "      <td>...</td>\n",
       "      <td>...</td>\n",
       "      <td>...</td>\n",
       "      <td>...</td>\n",
       "      <td>...</td>\n",
       "      <td>...</td>\n",
       "    </tr>\n",
       "    <tr>\n",
       "      <th>8688</th>\n",
       "      <td>9276_01</td>\n",
       "      <td>Europa</td>\n",
       "      <td>False</td>\n",
       "      <td>A/98/P</td>\n",
       "      <td>55 Cancri e</td>\n",
       "      <td>41.0</td>\n",
       "      <td>True</td>\n",
       "      <td>0.0</td>\n",
       "      <td>6819.0</td>\n",
       "      <td>0.0</td>\n",
       "      <td>1643.0</td>\n",
       "      <td>74.0</td>\n",
       "      <td>Gravior Noxnuther</td>\n",
       "      <td>False</td>\n",
       "    </tr>\n",
       "    <tr>\n",
       "      <th>8689</th>\n",
       "      <td>9278_01</td>\n",
       "      <td>Earth</td>\n",
       "      <td>True</td>\n",
       "      <td>G/1499/S</td>\n",
       "      <td>PSO J318.5-22</td>\n",
       "      <td>18.0</td>\n",
       "      <td>False</td>\n",
       "      <td>0.0</td>\n",
       "      <td>0.0</td>\n",
       "      <td>0.0</td>\n",
       "      <td>0.0</td>\n",
       "      <td>0.0</td>\n",
       "      <td>Kurta Mondalley</td>\n",
       "      <td>False</td>\n",
       "    </tr>\n",
       "    <tr>\n",
       "      <th>8690</th>\n",
       "      <td>9279_01</td>\n",
       "      <td>Earth</td>\n",
       "      <td>False</td>\n",
       "      <td>G/1500/S</td>\n",
       "      <td>TRAPPIST-1e</td>\n",
       "      <td>26.0</td>\n",
       "      <td>False</td>\n",
       "      <td>0.0</td>\n",
       "      <td>0.0</td>\n",
       "      <td>1872.0</td>\n",
       "      <td>1.0</td>\n",
       "      <td>0.0</td>\n",
       "      <td>Fayey Connon</td>\n",
       "      <td>True</td>\n",
       "    </tr>\n",
       "    <tr>\n",
       "      <th>8691</th>\n",
       "      <td>9280_01</td>\n",
       "      <td>Europa</td>\n",
       "      <td>False</td>\n",
       "      <td>E/608/S</td>\n",
       "      <td>55 Cancri e</td>\n",
       "      <td>32.0</td>\n",
       "      <td>False</td>\n",
       "      <td>0.0</td>\n",
       "      <td>1049.0</td>\n",
       "      <td>0.0</td>\n",
       "      <td>353.0</td>\n",
       "      <td>3235.0</td>\n",
       "      <td>Celeon Hontichre</td>\n",
       "      <td>False</td>\n",
       "    </tr>\n",
       "    <tr>\n",
       "      <th>8692</th>\n",
       "      <td>9280_02</td>\n",
       "      <td>Europa</td>\n",
       "      <td>False</td>\n",
       "      <td>E/608/S</td>\n",
       "      <td>TRAPPIST-1e</td>\n",
       "      <td>44.0</td>\n",
       "      <td>False</td>\n",
       "      <td>126.0</td>\n",
       "      <td>4688.0</td>\n",
       "      <td>0.0</td>\n",
       "      <td>0.0</td>\n",
       "      <td>12.0</td>\n",
       "      <td>Propsh Hontichre</td>\n",
       "      <td>True</td>\n",
       "    </tr>\n",
       "  </tbody>\n",
       "</table>\n",
       "<p>8693 rows × 14 columns</p>\n",
       "</div>"
      ],
      "text/plain": [
       "     PassengerId HomePlanet CryoSleep     Cabin    Destination   Age    VIP  \\\n",
       "0        0001_01     Europa     False     B/0/P    TRAPPIST-1e  39.0  False   \n",
       "1        0002_01      Earth     False     F/0/S    TRAPPIST-1e  24.0  False   \n",
       "2        0003_01     Europa     False     A/0/S    TRAPPIST-1e  58.0   True   \n",
       "3        0003_02     Europa     False     A/0/S    TRAPPIST-1e  33.0  False   \n",
       "4        0004_01      Earth     False     F/1/S    TRAPPIST-1e  16.0  False   \n",
       "...          ...        ...       ...       ...            ...   ...    ...   \n",
       "8688     9276_01     Europa     False    A/98/P    55 Cancri e  41.0   True   \n",
       "8689     9278_01      Earth      True  G/1499/S  PSO J318.5-22  18.0  False   \n",
       "8690     9279_01      Earth     False  G/1500/S    TRAPPIST-1e  26.0  False   \n",
       "8691     9280_01     Europa     False   E/608/S    55 Cancri e  32.0  False   \n",
       "8692     9280_02     Europa     False   E/608/S    TRAPPIST-1e  44.0  False   \n",
       "\n",
       "      RoomService  FoodCourt  ShoppingMall     Spa  VRDeck               Name  \\\n",
       "0             0.0        0.0           0.0     0.0     0.0    Maham Ofracculy   \n",
       "1           109.0        9.0          25.0   549.0    44.0       Juanna Vines   \n",
       "2            43.0     3576.0           0.0  6715.0    49.0      Altark Susent   \n",
       "3             0.0     1283.0         371.0  3329.0   193.0       Solam Susent   \n",
       "4           303.0       70.0         151.0   565.0     2.0  Willy Santantines   \n",
       "...           ...        ...           ...     ...     ...                ...   \n",
       "8688          0.0     6819.0           0.0  1643.0    74.0  Gravior Noxnuther   \n",
       "8689          0.0        0.0           0.0     0.0     0.0    Kurta Mondalley   \n",
       "8690          0.0        0.0        1872.0     1.0     0.0       Fayey Connon   \n",
       "8691          0.0     1049.0           0.0   353.0  3235.0   Celeon Hontichre   \n",
       "8692        126.0     4688.0           0.0     0.0    12.0   Propsh Hontichre   \n",
       "\n",
       "      Transported  \n",
       "0           False  \n",
       "1            True  \n",
       "2           False  \n",
       "3           False  \n",
       "4            True  \n",
       "...           ...  \n",
       "8688        False  \n",
       "8689        False  \n",
       "8690         True  \n",
       "8691        False  \n",
       "8692         True  \n",
       "\n",
       "[8693 rows x 14 columns]"
      ]
     },
     "execution_count": 3,
     "metadata": {},
     "output_type": "execute_result"
    }
   ],
   "source": [
    "train"
   ]
  },
  {
   "cell_type": "code",
   "execution_count": 4,
   "metadata": {},
   "outputs": [
    {
     "data": {
      "text/plain": [
       "(8693,)"
      ]
     },
     "execution_count": 4,
     "metadata": {},
     "output_type": "execute_result"
    }
   ],
   "source": [
    "train['PassengerId'].unique().shape"
   ]
  },
  {
   "cell_type": "code",
   "execution_count": 5,
   "metadata": {},
   "outputs": [
    {
     "data": {
      "text/plain": [
       "array(['Europa', 'Earth', 'Mars', nan], dtype=object)"
      ]
     },
     "execution_count": 5,
     "metadata": {},
     "output_type": "execute_result"
    }
   ],
   "source": [
    "train['HomePlanet'].unique()"
   ]
  },
  {
   "cell_type": "code",
   "execution_count": 6,
   "metadata": {},
   "outputs": [
    {
     "data": {
      "text/plain": [
       "Earth     4602\n",
       "Europa    2131\n",
       "Mars      1759\n",
       "Name: HomePlanet, dtype: int64"
      ]
     },
     "execution_count": 6,
     "metadata": {},
     "output_type": "execute_result"
    }
   ],
   "source": [
    "train['HomePlanet'].value_counts()"
   ]
  },
  {
   "cell_type": "code",
   "execution_count": 7,
   "metadata": {},
   "outputs": [
    {
     "data": {
      "text/plain": [
       "TRAPPIST-1e      5915\n",
       "55 Cancri e      1800\n",
       "PSO J318.5-22     796\n",
       "Name: Destination, dtype: int64"
      ]
     },
     "execution_count": 7,
     "metadata": {},
     "output_type": "execute_result"
    }
   ],
   "source": [
    "train['Destination'].value_counts()"
   ]
  },
  {
   "cell_type": "markdown",
   "metadata": {},
   "source": [
    "### Name - PassengerId"
   ]
  },
  {
   "cell_type": "code",
   "execution_count": 8,
   "metadata": {},
   "outputs": [],
   "source": [
    "train.loc[train['Name'].isna(),'Name'] = 'nan nan'\n",
    "\n",
    "name = train['Name'].str.split(\" \")\n",
    "\n",
    "surname = [tuple[0] for tuple in name]\n",
    "name = [tuple[1] for tuple in name]\n",
    "\n",
    "train['Name'] = name\n",
    "train['Surname'] = surname"
   ]
  },
  {
   "cell_type": "code",
   "execution_count": 9,
   "metadata": {},
   "outputs": [],
   "source": [
    "test.loc[test['Name'].isna(),'Name'] = 'nan nan'\n",
    "\n",
    "name = test['Name'].str.split(\" \")\n",
    "\n",
    "surname = [tuple[0] for tuple in name]\n",
    "name = [tuple[1] for tuple in name]\n",
    "\n",
    "test['Name'] = name\n",
    "test['Surname'] = surname"
   ]
  },
  {
   "cell_type": "code",
   "execution_count": 10,
   "metadata": {},
   "outputs": [],
   "source": [
    "train.loc[train['PassengerId'].isna(),'PassengerId'] = 'nan_nan'\n",
    "\n",
    "pasid = train['PassengerId'].str.split(\"_\")\n",
    "\n",
    "gggg = [tuple[0] for tuple in pasid]\n",
    "pp = [tuple[1] for tuple in pasid]\n",
    "\n",
    "train['GroupNumber'] = gggg\n",
    "train['PeopleNumber'] = pp"
   ]
  },
  {
   "cell_type": "code",
   "execution_count": 11,
   "metadata": {},
   "outputs": [],
   "source": [
    "test.loc[test['PassengerId'].isna(),'PassengerId'] = 'nan_nan'\n",
    "\n",
    "pasid = test['PassengerId'].str.split(\"_\")\n",
    "\n",
    "gggg = [tuple[0] for tuple in pasid]\n",
    "pp = [tuple[1] for tuple in pasid]\n",
    "\n",
    "test['GroupNumber'] = gggg\n",
    "test['PeopleNumber'] = pp"
   ]
  },
  {
   "cell_type": "markdown",
   "metadata": {},
   "source": [
    "### Cabin"
   ]
  },
  {
   "cell_type": "code",
   "execution_count": 12,
   "metadata": {},
   "outputs": [
    {
     "data": {
      "text/plain": [
       "G/109/P     3\n",
       "F/1194/P    3\n",
       "E/385/P     2\n",
       "G/1300/S    2\n",
       "G/872/P     2\n",
       "           ..\n",
       "F/585/S     1\n",
       "G/488/S     1\n",
       "G/491/S     1\n",
       "G/513/P     1\n",
       "G/1499/S    1\n",
       "Name: Cabin, Length: 754, dtype: int64"
      ]
     },
     "execution_count": 12,
     "metadata": {},
     "output_type": "execute_result"
    }
   ],
   "source": [
    "train[train['Destination']== 'PSO J318.5-22']['Cabin'].value_counts()"
   ]
  },
  {
   "cell_type": "code",
   "execution_count": 13,
   "metadata": {},
   "outputs": [],
   "source": [
    "train['Cabin'] = train['Cabin'].fillna('N/A/N')\n",
    "\n",
    "for group in train[train['Cabin'] == 'N/A/N']['GroupNumber']:\n",
    "    for cabin in train[(train['Cabin'] != 'N/A/N') & (train['GroupNumber'] == group)]['Cabin']:\n",
    "        if cabin is not None:\n",
    "            train.loc[(train['Cabin'] == 'N/A/N') & (train['GroupNumber'] == group),'Cabin'] = cabin"
   ]
  },
  {
   "cell_type": "code",
   "execution_count": 14,
   "metadata": {},
   "outputs": [],
   "source": [
    "test['Cabin'] = test['Cabin'].fillna('N/A/N')\n",
    "\n",
    "for group in test[test['Cabin'] == 'N/A/N']['GroupNumber']:\n",
    "    for cabin in test[(test['Cabin'] != 'N/A/N') & (test['GroupNumber'] == group)]['Cabin']:\n",
    "        if cabin is not None:\n",
    "            test.loc[(test['Cabin'] == 'N/A/N') & (test['GroupNumber'] == group),'Cabin'] = cabin"
   ]
  },
  {
   "cell_type": "code",
   "execution_count": 15,
   "metadata": {},
   "outputs": [],
   "source": [
    "cabin = train['Cabin']\n",
    "cabin = cabin.str.split(\"/\")\n",
    "\n",
    "x = [tuple[0] for tuple in cabin]\n",
    "y = [tuple[1] for tuple in cabin]\n",
    "z = [tuple[2] for tuple in cabin]\n",
    "\n",
    "train['Cabin_0'] = x\n",
    "train['Cabin_1'] = y\n",
    "train['Cabin_2'] = z"
   ]
  },
  {
   "cell_type": "code",
   "execution_count": 16,
   "metadata": {},
   "outputs": [],
   "source": [
    "cabin = test['Cabin']\n",
    "cabin = cabin.str.split(\"/\")\n",
    "\n",
    "x = [tuple[0] for tuple in cabin]\n",
    "y = [tuple[1] for tuple in cabin]\n",
    "z = [tuple[2] for tuple in cabin]\n",
    "\n",
    "test['Cabin_0'] = x\n",
    "test['Cabin_1'] = y\n",
    "test['Cabin_2'] = z"
   ]
  },
  {
   "cell_type": "code",
   "execution_count": 17,
   "metadata": {},
   "outputs": [
    {
     "data": {
      "text/plain": [
       "F    2811\n",
       "G    2587\n",
       "E     885\n",
       "B     796\n",
       "C     761\n",
       "D     487\n",
       "A     262\n",
       "N      99\n",
       "T       5\n",
       "Name: Cabin_0, dtype: int64"
      ]
     },
     "execution_count": 17,
     "metadata": {},
     "output_type": "execute_result"
    }
   ],
   "source": [
    "train['Cabin_0'].value_counts()"
   ]
  },
  {
   "cell_type": "code",
   "execution_count": 18,
   "metadata": {},
   "outputs": [
    {
     "data": {
      "text/plain": [
       "S    4343\n",
       "P    4251\n",
       "N      99\n",
       "Name: Cabin_2, dtype: int64"
      ]
     },
     "execution_count": 18,
     "metadata": {},
     "output_type": "execute_result"
    }
   ],
   "source": [
    "train['Cabin_2'].value_counts()"
   ]
  },
  {
   "cell_type": "code",
   "execution_count": 19,
   "metadata": {},
   "outputs": [],
   "source": [
    "train.loc[train['HomePlanet'].isna(),'HomePlanet'] = 'nan'\n",
    "train.loc[train['VIP'].isna(),'VIP'] = 'nan'\n",
    "train.loc[train['CryoSleep'].isna(),'CryoSleep'] = 'nan'\n",
    "train.loc[train['Destination'].isna(),'Destination'] = 'nan'"
   ]
  },
  {
   "cell_type": "code",
   "execution_count": 20,
   "metadata": {},
   "outputs": [],
   "source": [
    "test.loc[test['HomePlanet'].isna(),'HomePlanet'] = 'nan'\n",
    "test.loc[test['VIP'].isna(),'VIP'] = 'nan'\n",
    "test.loc[test['CryoSleep'].isna(),'CryoSleep'] = 'nan'\n",
    "test.loc[test['Destination'].isna(),'Destination'] = 'nan'"
   ]
  },
  {
   "cell_type": "code",
   "execution_count": 21,
   "metadata": {},
   "outputs": [],
   "source": [
    "# Dealing With Cabin Missing Values\n",
    "\n",
    "for planet in train['HomePlanet'].unique():\n",
    "    for vip in train['VIP'].unique():\n",
    "        for cryo in train['CryoSleep'].unique():\n",
    "            for dest in train['Destination'].unique():\n",
    "                diff = 1\n",
    "                for cabin0 in train[train['Cabin_0']!='N']['Cabin_0'].unique():\n",
    "                    mean_cabin0_N = train[(train['HomePlanet']== planet) & (train['VIP']== vip) &\n",
    "                                        (train['CryoSleep']== cryo) & (train['Destination']== dest) & (train['Cabin_0']== 'N')]['Transported'].mean()\n",
    "                    mean_cabin0 = train[(train['HomePlanet']== planet) & (train['VIP']== vip) &\n",
    "                                        (train['CryoSleep']== cryo) & (train['Destination']== dest) & (train['Cabin_0']== cabin0)]['Transported'].mean()\n",
    "                    if abs(mean_cabin0_N-mean_cabin0) < diff:\n",
    "                        diff = abs(mean_cabin0_N-mean_cabin0)\n",
    "                        assign_N_to = cabin0\n",
    "                train.loc[(train['HomePlanet']== planet) & (train['VIP']== vip) &\n",
    "                        (train['CryoSleep']== cryo) & (train['Destination']== dest) & (train['Cabin_0']== 'N'),'Cabin_0'] = assign_N_to\n",
    "                test.loc[(test['HomePlanet']== planet) & (test['VIP']== vip) &\n",
    "                        (test['CryoSleep']== cryo) & (test['Destination']== dest) & (test['Cabin_0']== 'N'),'Cabin_0'] = assign_N_to\n",
    "                \n",
    "\n",
    "for planet in train['HomePlanet'].unique():\n",
    "    for vip in train['VIP'].unique():\n",
    "        for cryo in train['CryoSleep'].unique():\n",
    "            for dest in train['Destination'].unique():\n",
    "                diff = 1\n",
    "                for cabin2 in train[train['Cabin_2']!='N']['Cabin_2'].unique():\n",
    "                    mean_cabin2_N = train[(train['HomePlanet']== planet) & (train['VIP']== vip) &\n",
    "                                        (train['CryoSleep']== cryo) & (train['Destination']== dest) & (train['Cabin_2']== 'N')]['Transported'].mean()\n",
    "                    mean_cabin2 = train[(train['HomePlanet']== planet) & (train['VIP']== vip) &\n",
    "                                        (train['CryoSleep']== cryo) & (train['Destination']== dest) & (train['Cabin_2']== cabin2)]['Transported'].mean()\n",
    "                    if abs(mean_cabin2_N-mean_cabin2) < diff:\n",
    "                        diff = abs(mean_cabin2_N-mean_cabin2)\n",
    "                        assign_N_to = cabin2\n",
    "                train.loc[(train['HomePlanet']== planet) & (train['VIP']== vip) &\n",
    "                        (train['CryoSleep']== cryo) & (train['Destination']== dest) & (train['Cabin_2']== 'N'),'Cabin_2'] = assign_N_to\n",
    "                test.loc[(test['HomePlanet']== planet) & (test['VIP']== vip) &\n",
    "                        (test['CryoSleep']== cryo) & (test['Destination']== dest) & (test['Cabin_2']== 'N'),'Cabin_2'] = assign_N_to"
   ]
  },
  {
   "cell_type": "code",
   "execution_count": 22,
   "metadata": {},
   "outputs": [],
   "source": [
    "from random import sample\n",
    "\n",
    "for cabin0 in train['Cabin_0'].unique():\n",
    "    for cabin2 in train['Cabin_2'].unique():\n",
    "        random_num = list(range(1,100))\n",
    "        for cabin1 in train[(train['Cabin_0'] == cabin0) & (train['Cabin_2'] == cabin2)]['Cabin_1']:\n",
    "            if cabin1 != 'A':\n",
    "                for i in random_num:\n",
    "                    if str(i) == cabin1:\n",
    "                        random_num.remove(i)\n",
    "            else:\n",
    "                train.loc[(train['Cabin_0'] == cabin0) & (train['Cabin_2'] == cabin2) & (train['Cabin_1'] == 'A'),'Cabin_1'] = str(sample(random_num,1)[0])"
   ]
  },
  {
   "cell_type": "code",
   "execution_count": 23,
   "metadata": {},
   "outputs": [],
   "source": [
    "for cabin0 in test['Cabin_0'].unique():\n",
    "    for cabin2 in test['Cabin_2'].unique():\n",
    "        random_num = list(range(1,100))\n",
    "        for cabin1 in test[(test['Cabin_0'] == cabin0) & (test['Cabin_2'] == cabin2)]['Cabin_1']:\n",
    "            if cabin1 != 'A':\n",
    "                for i in random_num:\n",
    "                    if str(i) == cabin1:\n",
    "                        random_num.remove(i)\n",
    "            else:\n",
    "                test.loc[(test['Cabin_0'] == cabin0) & (test['Cabin_2'] == cabin2) & (test['Cabin_1'] == 'A'),'Cabin_1'] = str(sample(random_num,1)[0])"
   ]
  },
  {
   "cell_type": "markdown",
   "metadata": {},
   "source": [
    "### Destination"
   ]
  },
  {
   "cell_type": "code",
   "execution_count": 24,
   "metadata": {},
   "outputs": [
    {
     "data": {
      "text/plain": [
       "array(['TRAPPIST-1e', 'PSO J318.5-22', '55 Cancri e', 'nan'], dtype=object)"
      ]
     },
     "execution_count": 24,
     "metadata": {},
     "output_type": "execute_result"
    }
   ],
   "source": [
    "train['Destination'].unique()"
   ]
  },
  {
   "cell_type": "code",
   "execution_count": 25,
   "metadata": {},
   "outputs": [],
   "source": [
    "for planet in train['HomePlanet'].unique():\n",
    "    for vip in train['VIP'].unique():\n",
    "        for cryo in train['CryoSleep'].unique():\n",
    "            diff = 1\n",
    "            for dest in train[train['Destination'] != 'nan']['Destination'].unique():\n",
    "                mean_dest_N = train[(train['HomePlanet']== planet) & (train['VIP']== vip) &\n",
    "                                    (train['CryoSleep']== cryo) & (train['Destination']== 'nan')]['Transported'].mean()\n",
    "                mean_dest = train[(train['HomePlanet']== planet) & (train['VIP']== vip) &\n",
    "                                    (train['CryoSleep']== cryo) &  (train['Destination']== dest)]['Transported'].mean()\n",
    "                if abs(mean_dest_N-mean_dest) < diff:\n",
    "                    diff = abs(mean_dest_N-mean_dest)\n",
    "                    assign_N_to = dest\n",
    "            train.loc[(train['HomePlanet']== planet) & (train['VIP']== vip) &\n",
    "                        (train['CryoSleep']== cryo) & (train['Destination']== 'nan'),'Destination'] = assign_N_to\n",
    "            test.loc[(test['HomePlanet']== planet) & (test['VIP']== vip) &\n",
    "                        (test['CryoSleep']== cryo) & (test['Destination']== 'nan'),'Destination'] = assign_N_to"
   ]
  },
  {
   "cell_type": "code",
   "execution_count": 26,
   "metadata": {},
   "outputs": [
    {
     "data": {
      "text/plain": [
       "TRAPPIST-1e      5956\n",
       "55 Cancri e      1841\n",
       "PSO J318.5-22     896\n",
       "Name: Destination, dtype: int64"
      ]
     },
     "execution_count": 26,
     "metadata": {},
     "output_type": "execute_result"
    }
   ],
   "source": [
    "train['Destination'].value_counts()"
   ]
  },
  {
   "cell_type": "markdown",
   "metadata": {},
   "source": [
    "### HomePlanet"
   ]
  },
  {
   "cell_type": "code",
   "execution_count": 27,
   "metadata": {},
   "outputs": [
    {
     "data": {
      "text/plain": [
       "array(['Europa', 'Earth', 'Mars', 'nan'], dtype=object)"
      ]
     },
     "execution_count": 27,
     "metadata": {},
     "output_type": "execute_result"
    }
   ],
   "source": [
    "train['HomePlanet'].unique()"
   ]
  },
  {
   "cell_type": "code",
   "execution_count": 28,
   "metadata": {},
   "outputs": [],
   "source": [
    "for dest in train['Destination'].unique():\n",
    "    for vip in train['VIP'].unique():\n",
    "        for cryo in train['CryoSleep'].unique():\n",
    "            diff = 1\n",
    "            for planet in train[train['HomePlanet'] != 'nan']['HomePlanet'].unique():\n",
    "                mean_planet_N = train[(train['Destination']== dest) & (train['VIP']== vip) &\n",
    "                                    (train['CryoSleep']== cryo) & (train['HomePlanet']== 'nan')]['Transported'].mean()\n",
    "                mean_planet = train[(train['Destination']== dest) & (train['VIP']== vip) &\n",
    "                                    (train['CryoSleep']== cryo) & (train['HomePlanet']== planet)]['Transported'].mean()\n",
    "                if abs(mean_planet_N-mean_planet) < diff:\n",
    "                    diff = abs(mean_planet_N-mean_planet)\n",
    "                    assign_N_to = planet\n",
    "            train.loc[(train['Destination']== dest) & (train['VIP']== vip) &\n",
    "                        (train['CryoSleep']== cryo) & (train['HomePlanet']== 'nan'),'HomePlanet'] = assign_N_to\n",
    "            test.loc[(test['Destination']== dest) & (test['VIP']== vip) &\n",
    "                        (test['CryoSleep']== cryo) & (test['HomePlanet']== 'nan'),'HomePlanet'] = assign_N_to"
   ]
  },
  {
   "cell_type": "code",
   "execution_count": 29,
   "metadata": {},
   "outputs": [
    {
     "data": {
      "text/plain": [
       "Earth     4628\n",
       "Europa    2134\n",
       "Mars      1931\n",
       "Name: HomePlanet, dtype: int64"
      ]
     },
     "execution_count": 29,
     "metadata": {},
     "output_type": "execute_result"
    }
   ],
   "source": [
    "train['HomePlanet'].value_counts()"
   ]
  },
  {
   "cell_type": "markdown",
   "metadata": {},
   "source": [
    "### VIP"
   ]
  },
  {
   "cell_type": "code",
   "execution_count": 30,
   "metadata": {},
   "outputs": [
    {
     "data": {
      "text/plain": [
       "array([False, True, 'nan'], dtype=object)"
      ]
     },
     "execution_count": 30,
     "metadata": {},
     "output_type": "execute_result"
    }
   ],
   "source": [
    "train['VIP'].unique()"
   ]
  },
  {
   "cell_type": "code",
   "execution_count": 31,
   "metadata": {},
   "outputs": [],
   "source": [
    "for dest in train['Destination'].unique():\n",
    "    for planet in train['HomePlanet'].unique():\n",
    "        for cryo in train['CryoSleep'].unique():\n",
    "            diff = 1\n",
    "            for vip in train[train['VIP'] != 'nan']['VIP'].unique():\n",
    "                mean_vip_N = train[(train['Destination']== dest) & (train['HomePlanet']== planet) &\n",
    "                                    (train['CryoSleep']== cryo) & (train['VIP']== 'nan')]['Transported'].mean()\n",
    "                mean_vip = train[(train['Destination']== dest) & (train['HomePlanet']== planet) &\n",
    "                                    (train['CryoSleep']== cryo) & (train['VIP']== vip)]['Transported'].mean()\n",
    "                if abs(mean_vip_N-mean_vip) < diff:\n",
    "                    diff = abs(mean_vip_N-mean_vip)\n",
    "                    assign_N_to = vip\n",
    "            train.loc[(train['Destination']== dest) & (train['HomePlanet']== planet) &\n",
    "                                    (train['CryoSleep']== cryo) & (train['VIP']== 'nan'),'VIP'] = assign_N_to\n",
    "            test.loc[(test['Destination']== dest) & (test['HomePlanet']== planet) &\n",
    "                                    (test['CryoSleep']== cryo) & (test['VIP']== 'nan'),'VIP'] = assign_N_to"
   ]
  },
  {
   "cell_type": "code",
   "execution_count": 32,
   "metadata": {},
   "outputs": [
    {
     "data": {
      "text/plain": [
       "False    8475\n",
       "True      218\n",
       "Name: VIP, dtype: int64"
      ]
     },
     "execution_count": 32,
     "metadata": {},
     "output_type": "execute_result"
    }
   ],
   "source": [
    "train['VIP'].value_counts()"
   ]
  },
  {
   "cell_type": "markdown",
   "metadata": {},
   "source": [
    "### CryoSleep"
   ]
  },
  {
   "cell_type": "code",
   "execution_count": 33,
   "metadata": {},
   "outputs": [
    {
     "data": {
      "text/plain": [
       "array([False, True, 'nan'], dtype=object)"
      ]
     },
     "execution_count": 33,
     "metadata": {},
     "output_type": "execute_result"
    }
   ],
   "source": [
    "train['CryoSleep'].unique()"
   ]
  },
  {
   "cell_type": "code",
   "execution_count": 34,
   "metadata": {},
   "outputs": [],
   "source": [
    "for dest in train['Destination'].unique():\n",
    "    for planet in train['HomePlanet'].unique():\n",
    "        for vip in train['VIP'].unique():\n",
    "            diff = 1\n",
    "            for cryo in train[train['CryoSleep'] != 'nan']['CryoSleep'].unique():\n",
    "                mean_cryo_N = train[(train['Destination']== dest) & (train['HomePlanet']== planet) &\n",
    "                                    (train['VIP']== vip) & (train['CryoSleep']== 'nan')]['Transported'].mean()\n",
    "                mean_cryo = train[(train['Destination']== dest) & (train['HomePlanet']== planet) &\n",
    "                                    (train['VIP']== vip) & (train['CryoSleep']== cryo)]['Transported'].mean()\n",
    "                if abs(mean_cryo_N-mean_cryo) < diff:\n",
    "                    diff = abs(mean_cryo_N-mean_cryo)\n",
    "                    assign_N_to = cryo\n",
    "            train.loc[(train['Destination']== dest) & (train['HomePlanet']== planet) &\n",
    "                                    (train['VIP']== vip) & (train['CryoSleep']== 'nan'),'CryoSleep'] = assign_N_to\n",
    "            test.loc[(test['Destination']== dest) & (test['HomePlanet']== planet) &\n",
    "                                    (test['VIP']== vip) & (test['CryoSleep']== 'nan'),'CryoSleep'] = assign_N_to"
   ]
  },
  {
   "cell_type": "code",
   "execution_count": 35,
   "metadata": {},
   "outputs": [
    {
     "data": {
      "text/plain": [
       "False    5623\n",
       "True     3070\n",
       "Name: CryoSleep, dtype: int64"
      ]
     },
     "execution_count": 35,
     "metadata": {},
     "output_type": "execute_result"
    }
   ],
   "source": [
    "train['CryoSleep'].value_counts()"
   ]
  },
  {
   "cell_type": "markdown",
   "metadata": {},
   "source": [
    "### Age"
   ]
  },
  {
   "cell_type": "code",
   "execution_count": 36,
   "metadata": {},
   "outputs": [],
   "source": [
    "train.loc[train['Age'].isna(),'Age'] = -1\n",
    "test.loc[test['Age'].isna(),'Age'] = -1"
   ]
  },
  {
   "cell_type": "code",
   "execution_count": 37,
   "metadata": {},
   "outputs": [
    {
     "data": {
      "text/plain": [
       "24.0    324\n",
       "18.0    320\n",
       "21.0    311\n",
       "19.0    293\n",
       "23.0    292\n",
       "       ... \n",
       "72.0      4\n",
       "78.0      3\n",
       "79.0      3\n",
       "76.0      2\n",
       "77.0      2\n",
       "Name: Age, Length: 81, dtype: int64"
      ]
     },
     "execution_count": 37,
     "metadata": {},
     "output_type": "execute_result"
    }
   ],
   "source": [
    "train['Age'].value_counts()"
   ]
  },
  {
   "cell_type": "code",
   "execution_count": 38,
   "metadata": {},
   "outputs": [
    {
     "data": {
      "text/plain": [
       "<matplotlib.collections.PathCollection at 0x16727f7cac0>"
      ]
     },
     "execution_count": 38,
     "metadata": {},
     "output_type": "execute_result"
    },
    {
     "data": {
      "image/png": "[encoded data removed]",
      "text/plain": [
       "<Figure size 432x288 with 1 Axes>"
      ]
     },
     "metadata": {
      "needs_background": "light"
     },
     "output_type": "display_data"
    }
   ],
   "source": [
    "plt.scatter(train['Age'].value_counts().index,train['Age'].value_counts().values)"
   ]
  },
  {
   "cell_type": "code",
   "execution_count": 39,
   "metadata": {},
   "outputs": [],
   "source": [
    "for dest in train['Destination'].unique():\n",
    "    for planet in train['HomePlanet'].unique():\n",
    "        for vip in train['VIP'].unique():\n",
    "            for cryo in train['CryoSleep'].unique():\n",
    "                for age in train[(train['Destination']== dest) & (train['HomePlanet']== planet) &\n",
    "                                    (train['VIP']== vip) & (train['CryoSleep']== cryo)]['Age']:\n",
    "                    if age == -1:                    \n",
    "                        mean_age = train[(train['Destination']== dest) & (train['HomePlanet']== planet) &\n",
    "                                    (train['VIP']== vip) & (train['CryoSleep']== cryo) & (train['Age'] != -1)]['Age'].mean()\n",
    "                        train.loc[(train['Destination']== dest) & (train['HomePlanet']== planet) &\n",
    "                                    (train['VIP']== vip) & (train['CryoSleep']== cryo) & (train['Age'] == -1),'Age'] = round(mean_age)"
   ]
  },
  {
   "cell_type": "code",
   "execution_count": 40,
   "metadata": {},
   "outputs": [],
   "source": [
    "for dest in test['Destination'].unique():\n",
    "    for planet in test['HomePlanet'].unique():\n",
    "        for vip in test['VIP'].unique():\n",
    "            for cryo in test['CryoSleep'].unique():\n",
    "                for age in test[(test['Destination']== dest) & (test['HomePlanet']== planet) &\n",
    "                                    (test['VIP']== vip) & (test['CryoSleep']== cryo)]['Age']:\n",
    "                    if age == -1:                    \n",
    "                        mean_age = test[(test['Destination']== dest) & (test['HomePlanet']== planet) &\n",
    "                                    (test['VIP']== vip) & (test['CryoSleep']== cryo) & (test['Age'] != -1)]['Age'].mean()\n",
    "                        test.loc[(test['Destination']== dest) & (test['HomePlanet']== planet) &\n",
    "                                    (test['VIP']== vip) & (test['CryoSleep']== cryo) & (test['Age'] == -1),'Age'] = round(mean_age)"
   ]
  },
  {
   "cell_type": "markdown",
   "metadata": {},
   "source": [
    "### Numerical Features"
   ]
  },
  {
   "cell_type": "code",
   "execution_count": 41,
   "metadata": {},
   "outputs": [],
   "source": [
    "train = train.drop(['PassengerId','Surname','PeopleNumber','Cabin'],axis=1)"
   ]
  },
  {
   "cell_type": "code",
   "execution_count": 42,
   "metadata": {},
   "outputs": [],
   "source": [
    "test = test.drop(['Surname','PeopleNumber','Cabin'],axis=1)"
   ]
  },
  {
   "cell_type": "code",
   "execution_count": 43,
   "metadata": {},
   "outputs": [],
   "source": [
    "test_id = test['PassengerId']\n",
    "test = test.drop('PassengerId',axis=1)"
   ]
  },
  {
   "cell_type": "code",
   "execution_count": 44,
   "metadata": {},
   "outputs": [
    {
     "data": {
      "text/html": [
       "<div>\n",
       "<style scoped>\n",
       "    .dataframe tbody tr th:only-of-type {\n",
       "        vertical-align: middle;\n",
       "    }\n",
       "\n",
       "    .dataframe tbody tr th {\n",
       "        vertical-align: top;\n",
       "    }\n",
       "\n",
       "    .dataframe thead th {\n",
       "        text-align: right;\n",
       "    }\n",
       "</style>\n",
       "<table border=\"1\" class=\"dataframe\">\n",
       "  <thead>\n",
       "    <tr style=\"text-align: right;\">\n",
       "      <th></th>\n",
       "      <th>HomePlanet</th>\n",
       "      <th>CryoSleep</th>\n",
       "      <th>Destination</th>\n",
       "      <th>Age</th>\n",
       "      <th>VIP</th>\n",
       "      <th>RoomService</th>\n",
       "      <th>FoodCourt</th>\n",
       "      <th>ShoppingMall</th>\n",
       "      <th>Spa</th>\n",
       "      <th>VRDeck</th>\n",
       "      <th>Name</th>\n",
       "      <th>Transported</th>\n",
       "      <th>GroupNumber</th>\n",
       "      <th>Cabin_0</th>\n",
       "      <th>Cabin_1</th>\n",
       "      <th>Cabin_2</th>\n",
       "    </tr>\n",
       "  </thead>\n",
       "  <tbody>\n",
       "    <tr>\n",
       "      <th>7</th>\n",
       "      <td>Earth</td>\n",
       "      <td>True</td>\n",
       "      <td>TRAPPIST-1e</td>\n",
       "      <td>28.0</td>\n",
       "      <td>False</td>\n",
       "      <td>0.0</td>\n",
       "      <td>0.0</td>\n",
       "      <td>0.0</td>\n",
       "      <td>0.0</td>\n",
       "      <td>NaN</td>\n",
       "      <td>Jacostaffey</td>\n",
       "      <td>True</td>\n",
       "      <td>0006</td>\n",
       "      <td>G</td>\n",
       "      <td>0</td>\n",
       "      <td>S</td>\n",
       "    </tr>\n",
       "    <tr>\n",
       "      <th>10</th>\n",
       "      <td>Europa</td>\n",
       "      <td>True</td>\n",
       "      <td>TRAPPIST-1e</td>\n",
       "      <td>34.0</td>\n",
       "      <td>False</td>\n",
       "      <td>0.0</td>\n",
       "      <td>0.0</td>\n",
       "      <td>NaN</td>\n",
       "      <td>0.0</td>\n",
       "      <td>0.0</td>\n",
       "      <td>Flatic</td>\n",
       "      <td>True</td>\n",
       "      <td>0008</td>\n",
       "      <td>B</td>\n",
       "      <td>1</td>\n",
       "      <td>P</td>\n",
       "    </tr>\n",
       "    <tr>\n",
       "      <th>16</th>\n",
       "      <td>Mars</td>\n",
       "      <td>False</td>\n",
       "      <td>55 Cancri e</td>\n",
       "      <td>27.0</td>\n",
       "      <td>False</td>\n",
       "      <td>1286.0</td>\n",
       "      <td>122.0</td>\n",
       "      <td>NaN</td>\n",
       "      <td>0.0</td>\n",
       "      <td>0.0</td>\n",
       "      <td>Eccle</td>\n",
       "      <td>False</td>\n",
       "      <td>0014</td>\n",
       "      <td>F</td>\n",
       "      <td>3</td>\n",
       "      <td>P</td>\n",
       "    </tr>\n",
       "    <tr>\n",
       "      <th>23</th>\n",
       "      <td>Earth</td>\n",
       "      <td>True</td>\n",
       "      <td>55 Cancri e</td>\n",
       "      <td>29.0</td>\n",
       "      <td>False</td>\n",
       "      <td>0.0</td>\n",
       "      <td>0.0</td>\n",
       "      <td>NaN</td>\n",
       "      <td>0.0</td>\n",
       "      <td>0.0</td>\n",
       "      <td>Mcfaddennon</td>\n",
       "      <td>False</td>\n",
       "      <td>0020</td>\n",
       "      <td>E</td>\n",
       "      <td>0</td>\n",
       "      <td>S</td>\n",
       "    </tr>\n",
       "    <tr>\n",
       "      <th>25</th>\n",
       "      <td>Earth</td>\n",
       "      <td>True</td>\n",
       "      <td>PSO J318.5-22</td>\n",
       "      <td>1.0</td>\n",
       "      <td>False</td>\n",
       "      <td>NaN</td>\n",
       "      <td>0.0</td>\n",
       "      <td>0.0</td>\n",
       "      <td>0.0</td>\n",
       "      <td>0.0</td>\n",
       "      <td>Brantuarez</td>\n",
       "      <td>False</td>\n",
       "      <td>0020</td>\n",
       "      <td>E</td>\n",
       "      <td>0</td>\n",
       "      <td>S</td>\n",
       "    </tr>\n",
       "    <tr>\n",
       "      <th>...</th>\n",
       "      <td>...</td>\n",
       "      <td>...</td>\n",
       "      <td>...</td>\n",
       "      <td>...</td>\n",
       "      <td>...</td>\n",
       "      <td>...</td>\n",
       "      <td>...</td>\n",
       "      <td>...</td>\n",
       "      <td>...</td>\n",
       "      <td>...</td>\n",
       "      <td>...</td>\n",
       "      <td>...</td>\n",
       "      <td>...</td>\n",
       "      <td>...</td>\n",
       "      <td>...</td>\n",
       "      <td>...</td>\n",
       "    </tr>\n",
       "    <tr>\n",
       "      <th>8642</th>\n",
       "      <td>Earth</td>\n",
       "      <td>True</td>\n",
       "      <td>TRAPPIST-1e</td>\n",
       "      <td>21.0</td>\n",
       "      <td>False</td>\n",
       "      <td>0.0</td>\n",
       "      <td>0.0</td>\n",
       "      <td>0.0</td>\n",
       "      <td>0.0</td>\n",
       "      <td>NaN</td>\n",
       "      <td>Beachez</td>\n",
       "      <td>False</td>\n",
       "      <td>9221</td>\n",
       "      <td>G</td>\n",
       "      <td>1497</td>\n",
       "      <td>P</td>\n",
       "    </tr>\n",
       "    <tr>\n",
       "      <th>8643</th>\n",
       "      <td>Mars</td>\n",
       "      <td>True</td>\n",
       "      <td>TRAPPIST-1e</td>\n",
       "      <td>50.0</td>\n",
       "      <td>False</td>\n",
       "      <td>0.0</td>\n",
       "      <td>0.0</td>\n",
       "      <td>0.0</td>\n",
       "      <td>NaN</td>\n",
       "      <td>0.0</td>\n",
       "      <td>Chate</td>\n",
       "      <td>True</td>\n",
       "      <td>9222</td>\n",
       "      <td>F</td>\n",
       "      <td>1784</td>\n",
       "      <td>S</td>\n",
       "    </tr>\n",
       "    <tr>\n",
       "      <th>8665</th>\n",
       "      <td>Earth</td>\n",
       "      <td>True</td>\n",
       "      <td>TRAPPIST-1e</td>\n",
       "      <td>33.0</td>\n",
       "      <td>False</td>\n",
       "      <td>0.0</td>\n",
       "      <td>0.0</td>\n",
       "      <td>0.0</td>\n",
       "      <td>0.0</td>\n",
       "      <td>NaN</td>\n",
       "      <td>Cleang</td>\n",
       "      <td>False</td>\n",
       "      <td>9247</td>\n",
       "      <td>G</td>\n",
       "      <td>1491</td>\n",
       "      <td>S</td>\n",
       "    </tr>\n",
       "    <tr>\n",
       "      <th>8667</th>\n",
       "      <td>Europa</td>\n",
       "      <td>False</td>\n",
       "      <td>TRAPPIST-1e</td>\n",
       "      <td>29.0</td>\n",
       "      <td>False</td>\n",
       "      <td>0.0</td>\n",
       "      <td>2972.0</td>\n",
       "      <td>NaN</td>\n",
       "      <td>28.0</td>\n",
       "      <td>188.0</td>\n",
       "      <td>Reedectied</td>\n",
       "      <td>True</td>\n",
       "      <td>9250</td>\n",
       "      <td>E</td>\n",
       "      <td>597</td>\n",
       "      <td>P</td>\n",
       "    </tr>\n",
       "    <tr>\n",
       "      <th>8675</th>\n",
       "      <td>Earth</td>\n",
       "      <td>False</td>\n",
       "      <td>TRAPPIST-1e</td>\n",
       "      <td>44.0</td>\n",
       "      <td>False</td>\n",
       "      <td>1030.0</td>\n",
       "      <td>1015.0</td>\n",
       "      <td>0.0</td>\n",
       "      <td>11.0</td>\n",
       "      <td>NaN</td>\n",
       "      <td>Gilleyons</td>\n",
       "      <td>True</td>\n",
       "      <td>9259</td>\n",
       "      <td>F</td>\n",
       "      <td>1893</td>\n",
       "      <td>P</td>\n",
       "    </tr>\n",
       "  </tbody>\n",
       "</table>\n",
       "<p>908 rows × 16 columns</p>\n",
       "</div>"
      ],
      "text/plain": [
       "     HomePlanet CryoSleep    Destination   Age    VIP  RoomService  FoodCourt  \\\n",
       "7         Earth      True    TRAPPIST-1e  28.0  False          0.0        0.0   \n",
       "10       Europa      True    TRAPPIST-1e  34.0  False          0.0        0.0   \n",
       "16         Mars     False    55 Cancri e  27.0  False       1286.0      122.0   \n",
       "23        Earth      True    55 Cancri e  29.0  False          0.0        0.0   \n",
       "25        Earth      True  PSO J318.5-22   1.0  False          NaN        0.0   \n",
       "...         ...       ...            ...   ...    ...          ...        ...   \n",
       "8642      Earth      True    TRAPPIST-1e  21.0  False          0.0        0.0   \n",
       "8643       Mars      True    TRAPPIST-1e  50.0  False          0.0        0.0   \n",
       "8665      Earth      True    TRAPPIST-1e  33.0  False          0.0        0.0   \n",
       "8667     Europa     False    TRAPPIST-1e  29.0  False          0.0     2972.0   \n",
       "8675      Earth     False    TRAPPIST-1e  44.0  False       1030.0     1015.0   \n",
       "\n",
       "      ShoppingMall   Spa  VRDeck         Name  Transported GroupNumber  \\\n",
       "7              0.0   0.0     NaN  Jacostaffey         True        0006   \n",
       "10             NaN   0.0     0.0       Flatic         True        0008   \n",
       "16             NaN   0.0     0.0        Eccle        False        0014   \n",
       "23             NaN   0.0     0.0  Mcfaddennon        False        0020   \n",
       "25             0.0   0.0     0.0   Brantuarez        False        0020   \n",
       "...            ...   ...     ...          ...          ...         ...   \n",
       "8642           0.0   0.0     NaN      Beachez        False        9221   \n",
       "8643           0.0   NaN     0.0        Chate         True        9222   \n",
       "8665           0.0   0.0     NaN       Cleang        False        9247   \n",
       "8667           NaN  28.0   188.0   Reedectied         True        9250   \n",
       "8675           0.0  11.0     NaN    Gilleyons         True        9259   \n",
       "\n",
       "     Cabin_0 Cabin_1 Cabin_2  \n",
       "7          G       0       S  \n",
       "10         B       1       P  \n",
       "16         F       3       P  \n",
       "23         E       0       S  \n",
       "25         E       0       S  \n",
       "...      ...     ...     ...  \n",
       "8642       G    1497       P  \n",
       "8643       F    1784       S  \n",
       "8665       G    1491       S  \n",
       "8667       E     597       P  \n",
       "8675       F    1893       P  \n",
       "\n",
       "[908 rows x 16 columns]"
      ]
     },
     "execution_count": 44,
     "metadata": {},
     "output_type": "execute_result"
    }
   ],
   "source": [
    "train[(train['RoomService'].isna()) | (train['FoodCourt'].isna()) |(train['ShoppingMall'].isna()) |(train['Spa'].isna()) |(train['VRDeck'].isna())]"
   ]
  },
  {
   "cell_type": "markdown",
   "metadata": {},
   "source": [
    "#### RoomService"
   ]
  },
  {
   "cell_type": "code",
   "execution_count": 45,
   "metadata": {},
   "outputs": [
    {
     "data": {
      "text/plain": [
       "[<matplotlib.lines.Line2D at 0x1672b0b58b0>]"
      ]
     },
     "execution_count": 45,
     "metadata": {},
     "output_type": "execute_result"
    },
    {
     "data": {
      "image/png": "[encoded data removed]",
      "text/plain": [
       "<Figure size 432x288 with 1 Axes>"
      ]
     },
     "metadata": {
      "needs_background": "light"
     },
     "output_type": "display_data"
    }
   ],
   "source": [
    "plt.plot(train[['Age','RoomService']].groupby('Age').mean().reset_index()['Age'], train[['Age','RoomService']].groupby('Age').mean().reset_index()['RoomService'])"
   ]
  },
  {
   "cell_type": "code",
   "execution_count": 46,
   "metadata": {},
   "outputs": [
    {
     "data": {
      "text/plain": [
       "0.0"
      ]
     },
     "execution_count": 46,
     "metadata": {},
     "output_type": "execute_result"
    }
   ],
   "source": [
    "train[train['Age'] <=12]['RoomService'].mean()"
   ]
  },
  {
   "cell_type": "code",
   "execution_count": 47,
   "metadata": {},
   "outputs": [],
   "source": [
    "train.loc[(train['Age'] <=12) & (train['RoomService'].isna()),'RoomService'] = 0"
   ]
  },
  {
   "cell_type": "code",
   "execution_count": 48,
   "metadata": {},
   "outputs": [],
   "source": [
    "test.loc[(test['Age'] <=12) & (test['RoomService'].isna()),'RoomService'] = 0"
   ]
  },
  {
   "cell_type": "code",
   "execution_count": 49,
   "metadata": {},
   "outputs": [],
   "source": [
    "train.loc[(train['Age'] >12) & (train['RoomService'].isna()),'RoomService'] = round(train[train['Age'] >= 13]['RoomService'].mean())"
   ]
  },
  {
   "cell_type": "code",
   "execution_count": 50,
   "metadata": {},
   "outputs": [],
   "source": [
    "test.loc[(test['Age'] >12) & (test['RoomService'].isna()),'RoomService'] = round(test[test['Age'] >= 13]['RoomService'].mean())"
   ]
  },
  {
   "cell_type": "markdown",
   "metadata": {},
   "source": [
    "#### FoodCourt"
   ]
  },
  {
   "cell_type": "code",
   "execution_count": 51,
   "metadata": {},
   "outputs": [
    {
     "data": {
      "text/plain": [
       "[<matplotlib.lines.Line2D at 0x1672b13c6d0>]"
      ]
     },
     "execution_count": 51,
     "metadata": {},
     "output_type": "execute_result"
    },
    {
     "data": {
      "image/png": "[encoded data removed]",
      "text/plain": [
       "<Figure size 432x288 with 1 Axes>"
      ]
     },
     "metadata": {
      "needs_background": "light"
     },
     "output_type": "display_data"
    }
   ],
   "source": [
    "plt.plot(train[['Age','FoodCourt']].groupby('Age').mean().reset_index()['Age'], train[['Age','FoodCourt']].groupby('Age').mean().reset_index()['FoodCourt'])"
   ]
  },
  {
   "cell_type": "code",
   "execution_count": 52,
   "metadata": {},
   "outputs": [
    {
     "data": {
      "text/plain": [
       "0.0"
      ]
     },
     "execution_count": 52,
     "metadata": {},
     "output_type": "execute_result"
    }
   ],
   "source": [
    "train[train['Age'] <13]['FoodCourt'].mean()"
   ]
  },
  {
   "cell_type": "code",
   "execution_count": 53,
   "metadata": {},
   "outputs": [],
   "source": [
    "train.loc[(train['Age'] <=12) & (train['FoodCourt'].isna()),'FoodCourt'] = 0"
   ]
  },
  {
   "cell_type": "code",
   "execution_count": 54,
   "metadata": {},
   "outputs": [],
   "source": [
    "test.loc[(test['Age'] <=12) & (test['FoodCourt'].isna()),'FoodCourt'] = 0"
   ]
  },
  {
   "cell_type": "code",
   "execution_count": 55,
   "metadata": {},
   "outputs": [],
   "source": [
    "train.loc[(train['Age'] >12) & (train['FoodCourt'].isna()),'FoodCourt'] = round(train[(train['Age'] >=13)]['FoodCourt'].mean())"
   ]
  },
  {
   "cell_type": "code",
   "execution_count": 56,
   "metadata": {},
   "outputs": [],
   "source": [
    "test.loc[(test['Age'] >12) & (test['FoodCourt'].isna()),'FoodCourt'] = round(test[(test['Age'] >=13)]['FoodCourt'].mean())"
   ]
  },
  {
   "cell_type": "markdown",
   "metadata": {},
   "source": [
    "#### ShoppingMall"
   ]
  },
  {
   "cell_type": "code",
   "execution_count": 57,
   "metadata": {},
   "outputs": [
    {
     "data": {
      "text/plain": [
       "[<matplotlib.lines.Line2D at 0x1672b1b4a00>]"
      ]
     },
     "execution_count": 57,
     "metadata": {},
     "output_type": "execute_result"
    },
    {
     "data": {
      "image/png": "[encoded data removed]",
      "text/plain": [
       "<Figure size 432x288 with 1 Axes>"
      ]
     },
     "metadata": {
      "needs_background": "light"
     },
     "output_type": "display_data"
    }
   ],
   "source": [
    "plt.plot(train[['Age','ShoppingMall']].groupby('Age').mean().reset_index()['Age'], train[['Age','ShoppingMall']].groupby('Age').mean().reset_index()['ShoppingMall'])"
   ]
  },
  {
   "cell_type": "code",
   "execution_count": 58,
   "metadata": {},
   "outputs": [
    {
     "data": {
      "text/plain": [
       "0.0"
      ]
     },
     "execution_count": 58,
     "metadata": {},
     "output_type": "execute_result"
    }
   ],
   "source": [
    "train[train['Age'] <13]['ShoppingMall'].mean()"
   ]
  },
  {
   "cell_type": "code",
   "execution_count": 59,
   "metadata": {},
   "outputs": [],
   "source": [
    "train.loc[(train['Age'] <=12) & (train['ShoppingMall'].isna()),'ShoppingMall'] = 0"
   ]
  },
  {
   "cell_type": "code",
   "execution_count": 60,
   "metadata": {},
   "outputs": [],
   "source": [
    "test.loc[(test['Age'] <=12) & (test['ShoppingMall'].isna()),'ShoppingMall'] = 0"
   ]
  },
  {
   "cell_type": "code",
   "execution_count": 61,
   "metadata": {},
   "outputs": [],
   "source": [
    "train.loc[(train['Age'] >12) & (train['ShoppingMall'].isna()),'ShoppingMall'] = round(train[(train['Age'] >=13)]['ShoppingMall'].mean())"
   ]
  },
  {
   "cell_type": "code",
   "execution_count": 62,
   "metadata": {},
   "outputs": [],
   "source": [
    "test.loc[(test['Age'] >12) & (test['ShoppingMall'].isna()),'ShoppingMall'] = round(test[(test['Age'] >=13)]['ShoppingMall'].mean())"
   ]
  },
  {
   "cell_type": "markdown",
   "metadata": {},
   "source": [
    "#### Spa"
   ]
  },
  {
   "cell_type": "code",
   "execution_count": 63,
   "metadata": {},
   "outputs": [
    {
     "data": {
      "text/plain": [
       "[<matplotlib.lines.Line2D at 0x1672b647550>]"
      ]
     },
     "execution_count": 63,
     "metadata": {},
     "output_type": "execute_result"
    },
    {
     "data": {
      "image/png": "[encoded data removed]",
      "text/plain": [
       "<Figure size 432x288 with 1 Axes>"
      ]
     },
     "metadata": {
      "needs_background": "light"
     },
     "output_type": "display_data"
    }
   ],
   "source": [
    "plt.plot(train[['Age','Spa']].groupby('Age').mean().reset_index()['Age'], train[['Age','Spa']].groupby('Age').mean().reset_index()['Spa'])"
   ]
  },
  {
   "cell_type": "code",
   "execution_count": 64,
   "metadata": {},
   "outputs": [
    {
     "data": {
      "text/plain": [
       "0.0"
      ]
     },
     "execution_count": 64,
     "metadata": {},
     "output_type": "execute_result"
    }
   ],
   "source": [
    "train[train['Age'] <13]['Spa'].mean()"
   ]
  },
  {
   "cell_type": "code",
   "execution_count": 65,
   "metadata": {},
   "outputs": [],
   "source": [
    "train.loc[(train['Age'] <=12) & (train['Spa'].isna()),'Spa'] = 0"
   ]
  },
  {
   "cell_type": "code",
   "execution_count": 66,
   "metadata": {},
   "outputs": [],
   "source": [
    "test.loc[(test['Age'] <=12) & (test['Spa'].isna()),'Spa'] = 0"
   ]
  },
  {
   "cell_type": "code",
   "execution_count": 67,
   "metadata": {},
   "outputs": [],
   "source": [
    "train.loc[(train['Age'] >12) & (train['Spa'].isna()),'Spa'] = round(train[(train['Age'] >=13)]['Spa'].mean())"
   ]
  },
  {
   "cell_type": "code",
   "execution_count": 68,
   "metadata": {},
   "outputs": [],
   "source": [
    "test.loc[(test['Age'] >12) & (test['Spa'].isna()),'Spa'] = round(test[(test['Age'] >=13)]['Spa'].mean())"
   ]
  },
  {
   "cell_type": "markdown",
   "metadata": {},
   "source": [
    "#### VRDeck"
   ]
  },
  {
   "cell_type": "code",
   "execution_count": 69,
   "metadata": {},
   "outputs": [
    {
     "data": {
      "text/plain": [
       "[<matplotlib.lines.Line2D at 0x1672b6c1c40>]"
      ]
     },
     "execution_count": 69,
     "metadata": {},
     "output_type": "execute_result"
    },
    {
     "data": {
      "image/png": "[encoded data removed]",
      "text/plain": [
       "<Figure size 432x288 with 1 Axes>"
      ]
     },
     "metadata": {
      "needs_background": "light"
     },
     "output_type": "display_data"
    }
   ],
   "source": [
    "plt.plot(train[['Age','VRDeck']].groupby('Age').mean().reset_index()['Age'], train[['Age','VRDeck']].groupby('Age').mean().reset_index()['VRDeck'])"
   ]
  },
  {
   "cell_type": "code",
   "execution_count": 70,
   "metadata": {},
   "outputs": [
    {
     "data": {
      "text/plain": [
       "0.0"
      ]
     },
     "execution_count": 70,
     "metadata": {},
     "output_type": "execute_result"
    }
   ],
   "source": [
    "train[train['Age'] <13]['VRDeck'].mean()"
   ]
  },
  {
   "cell_type": "code",
   "execution_count": 71,
   "metadata": {},
   "outputs": [],
   "source": [
    "train.loc[(train['Age'] <=12) & (train['VRDeck'].isna()),'VRDeck'] = 0"
   ]
  },
  {
   "cell_type": "code",
   "execution_count": 72,
   "metadata": {},
   "outputs": [],
   "source": [
    "test.loc[(test['Age'] <=12) & (test['VRDeck'].isna()),'VRDeck'] = 0"
   ]
  },
  {
   "cell_type": "code",
   "execution_count": 73,
   "metadata": {},
   "outputs": [],
   "source": [
    "train.loc[(train['Age'] >12) & (train['VRDeck'].isna()),'VRDeck'] = round(train[(train['Age'] >=13)]['VRDeck'].mean())"
   ]
  },
  {
   "cell_type": "code",
   "execution_count": 74,
   "metadata": {},
   "outputs": [],
   "source": [
    "test.loc[(test['Age'] >12) & (test['VRDeck'].isna()),'VRDeck'] = round(test[(test['Age'] >=13)]['VRDeck'].mean())"
   ]
  },
  {
   "cell_type": "code",
   "execution_count": 75,
   "metadata": {},
   "outputs": [
    {
     "data": {
      "text/html": [
       "<div>\n",
       "<style scoped>\n",
       "    .dataframe tbody tr th:only-of-type {\n",
       "        vertical-align: middle;\n",
       "    }\n",
       "\n",
       "    .dataframe tbody tr th {\n",
       "        vertical-align: top;\n",
       "    }\n",
       "\n",
       "    .dataframe thead th {\n",
       "        text-align: right;\n",
       "    }\n",
       "</style>\n",
       "<table border=\"1\" class=\"dataframe\">\n",
       "  <thead>\n",
       "    <tr style=\"text-align: right;\">\n",
       "      <th></th>\n",
       "      <th>HomePlanet</th>\n",
       "      <th>CryoSleep</th>\n",
       "      <th>Destination</th>\n",
       "      <th>Age</th>\n",
       "      <th>VIP</th>\n",
       "      <th>RoomService</th>\n",
       "      <th>FoodCourt</th>\n",
       "      <th>ShoppingMall</th>\n",
       "      <th>Spa</th>\n",
       "      <th>VRDeck</th>\n",
       "      <th>Name</th>\n",
       "      <th>Transported</th>\n",
       "      <th>GroupNumber</th>\n",
       "      <th>Cabin_0</th>\n",
       "      <th>Cabin_1</th>\n",
       "      <th>Cabin_2</th>\n",
       "    </tr>\n",
       "  </thead>\n",
       "  <tbody>\n",
       "  </tbody>\n",
       "</table>\n",
       "</div>"
      ],
      "text/plain": [
       "Empty DataFrame\n",
       "Columns: [HomePlanet, CryoSleep, Destination, Age, VIP, RoomService, FoodCourt, ShoppingMall, Spa, VRDeck, Name, Transported, GroupNumber, Cabin_0, Cabin_1, Cabin_2]\n",
       "Index: []"
      ]
     },
     "execution_count": 75,
     "metadata": {},
     "output_type": "execute_result"
    }
   ],
   "source": [
    "train[(train['RoomService'].isna()) | (train['FoodCourt'].isna()) |(train['ShoppingMall'].isna()) |(train['Spa'].isna()) |(train['VRDeck'].isna())]"
   ]
  },
  {
   "cell_type": "markdown",
   "metadata": {},
   "source": [
    "### Feature Addition"
   ]
  },
  {
   "cell_type": "code",
   "execution_count": 76,
   "metadata": {},
   "outputs": [
    {
     "data": {
      "text/html": [
       "<div>\n",
       "<style scoped>\n",
       "    .dataframe tbody tr th:only-of-type {\n",
       "        vertical-align: middle;\n",
       "    }\n",
       "\n",
       "    .dataframe tbody tr th {\n",
       "        vertical-align: top;\n",
       "    }\n",
       "\n",
       "    .dataframe thead th {\n",
       "        text-align: right;\n",
       "    }\n",
       "</style>\n",
       "<table border=\"1\" class=\"dataframe\">\n",
       "  <thead>\n",
       "    <tr style=\"text-align: right;\">\n",
       "      <th></th>\n",
       "      <th>HomePlanet</th>\n",
       "      <th>CryoSleep</th>\n",
       "      <th>Destination</th>\n",
       "      <th>Age</th>\n",
       "      <th>VIP</th>\n",
       "      <th>RoomService</th>\n",
       "      <th>FoodCourt</th>\n",
       "      <th>ShoppingMall</th>\n",
       "      <th>Spa</th>\n",
       "      <th>VRDeck</th>\n",
       "      <th>Name</th>\n",
       "      <th>Transported</th>\n",
       "      <th>GroupNumber</th>\n",
       "      <th>Cabin_0</th>\n",
       "      <th>Cabin_1</th>\n",
       "      <th>Cabin_2</th>\n",
       "    </tr>\n",
       "  </thead>\n",
       "  <tbody>\n",
       "    <tr>\n",
       "      <th>0</th>\n",
       "      <td>Europa</td>\n",
       "      <td>False</td>\n",
       "      <td>TRAPPIST-1e</td>\n",
       "      <td>39.0</td>\n",
       "      <td>False</td>\n",
       "      <td>0.0</td>\n",
       "      <td>0.0</td>\n",
       "      <td>0.0</td>\n",
       "      <td>0.0</td>\n",
       "      <td>0.0</td>\n",
       "      <td>Ofracculy</td>\n",
       "      <td>False</td>\n",
       "      <td>0001</td>\n",
       "      <td>B</td>\n",
       "      <td>0</td>\n",
       "      <td>P</td>\n",
       "    </tr>\n",
       "    <tr>\n",
       "      <th>1</th>\n",
       "      <td>Earth</td>\n",
       "      <td>False</td>\n",
       "      <td>TRAPPIST-1e</td>\n",
       "      <td>24.0</td>\n",
       "      <td>False</td>\n",
       "      <td>109.0</td>\n",
       "      <td>9.0</td>\n",
       "      <td>25.0</td>\n",
       "      <td>549.0</td>\n",
       "      <td>44.0</td>\n",
       "      <td>Vines</td>\n",
       "      <td>True</td>\n",
       "      <td>0002</td>\n",
       "      <td>F</td>\n",
       "      <td>0</td>\n",
       "      <td>S</td>\n",
       "    </tr>\n",
       "    <tr>\n",
       "      <th>2</th>\n",
       "      <td>Europa</td>\n",
       "      <td>False</td>\n",
       "      <td>TRAPPIST-1e</td>\n",
       "      <td>58.0</td>\n",
       "      <td>True</td>\n",
       "      <td>43.0</td>\n",
       "      <td>3576.0</td>\n",
       "      <td>0.0</td>\n",
       "      <td>6715.0</td>\n",
       "      <td>49.0</td>\n",
       "      <td>Susent</td>\n",
       "      <td>False</td>\n",
       "      <td>0003</td>\n",
       "      <td>A</td>\n",
       "      <td>0</td>\n",
       "      <td>S</td>\n",
       "    </tr>\n",
       "    <tr>\n",
       "      <th>3</th>\n",
       "      <td>Europa</td>\n",
       "      <td>False</td>\n",
       "      <td>TRAPPIST-1e</td>\n",
       "      <td>33.0</td>\n",
       "      <td>False</td>\n",
       "      <td>0.0</td>\n",
       "      <td>1283.0</td>\n",
       "      <td>371.0</td>\n",
       "      <td>3329.0</td>\n",
       "      <td>193.0</td>\n",
       "      <td>Susent</td>\n",
       "      <td>False</td>\n",
       "      <td>0003</td>\n",
       "      <td>A</td>\n",
       "      <td>0</td>\n",
       "      <td>S</td>\n",
       "    </tr>\n",
       "    <tr>\n",
       "      <th>4</th>\n",
       "      <td>Earth</td>\n",
       "      <td>False</td>\n",
       "      <td>TRAPPIST-1e</td>\n",
       "      <td>16.0</td>\n",
       "      <td>False</td>\n",
       "      <td>303.0</td>\n",
       "      <td>70.0</td>\n",
       "      <td>151.0</td>\n",
       "      <td>565.0</td>\n",
       "      <td>2.0</td>\n",
       "      <td>Santantines</td>\n",
       "      <td>True</td>\n",
       "      <td>0004</td>\n",
       "      <td>F</td>\n",
       "      <td>1</td>\n",
       "      <td>S</td>\n",
       "    </tr>\n",
       "    <tr>\n",
       "      <th>...</th>\n",
       "      <td>...</td>\n",
       "      <td>...</td>\n",
       "      <td>...</td>\n",
       "      <td>...</td>\n",
       "      <td>...</td>\n",
       "      <td>...</td>\n",
       "      <td>...</td>\n",
       "      <td>...</td>\n",
       "      <td>...</td>\n",
       "      <td>...</td>\n",
       "      <td>...</td>\n",
       "      <td>...</td>\n",
       "      <td>...</td>\n",
       "      <td>...</td>\n",
       "      <td>...</td>\n",
       "      <td>...</td>\n",
       "    </tr>\n",
       "    <tr>\n",
       "      <th>8688</th>\n",
       "      <td>Europa</td>\n",
       "      <td>False</td>\n",
       "      <td>55 Cancri e</td>\n",
       "      <td>41.0</td>\n",
       "      <td>True</td>\n",
       "      <td>0.0</td>\n",
       "      <td>6819.0</td>\n",
       "      <td>0.0</td>\n",
       "      <td>1643.0</td>\n",
       "      <td>74.0</td>\n",
       "      <td>Noxnuther</td>\n",
       "      <td>False</td>\n",
       "      <td>9276</td>\n",
       "      <td>A</td>\n",
       "      <td>98</td>\n",
       "      <td>P</td>\n",
       "    </tr>\n",
       "    <tr>\n",
       "      <th>8689</th>\n",
       "      <td>Earth</td>\n",
       "      <td>True</td>\n",
       "      <td>PSO J318.5-22</td>\n",
       "      <td>18.0</td>\n",
       "      <td>False</td>\n",
       "      <td>0.0</td>\n",
       "      <td>0.0</td>\n",
       "      <td>0.0</td>\n",
       "      <td>0.0</td>\n",
       "      <td>0.0</td>\n",
       "      <td>Mondalley</td>\n",
       "      <td>False</td>\n",
       "      <td>9278</td>\n",
       "      <td>G</td>\n",
       "      <td>1499</td>\n",
       "      <td>S</td>\n",
       "    </tr>\n",
       "    <tr>\n",
       "      <th>8690</th>\n",
       "      <td>Earth</td>\n",
       "      <td>False</td>\n",
       "      <td>TRAPPIST-1e</td>\n",
       "      <td>26.0</td>\n",
       "      <td>False</td>\n",
       "      <td>0.0</td>\n",
       "      <td>0.0</td>\n",
       "      <td>1872.0</td>\n",
       "      <td>1.0</td>\n",
       "      <td>0.0</td>\n",
       "      <td>Connon</td>\n",
       "      <td>True</td>\n",
       "      <td>9279</td>\n",
       "      <td>G</td>\n",
       "      <td>1500</td>\n",
       "      <td>S</td>\n",
       "    </tr>\n",
       "    <tr>\n",
       "      <th>8691</th>\n",
       "      <td>Europa</td>\n",
       "      <td>False</td>\n",
       "      <td>55 Cancri e</td>\n",
       "      <td>32.0</td>\n",
       "      <td>False</td>\n",
       "      <td>0.0</td>\n",
       "      <td>1049.0</td>\n",
       "      <td>0.0</td>\n",
       "      <td>353.0</td>\n",
       "      <td>3235.0</td>\n",
       "      <td>Hontichre</td>\n",
       "      <td>False</td>\n",
       "      <td>9280</td>\n",
       "      <td>E</td>\n",
       "      <td>608</td>\n",
       "      <td>S</td>\n",
       "    </tr>\n",
       "    <tr>\n",
       "      <th>8692</th>\n",
       "      <td>Europa</td>\n",
       "      <td>False</td>\n",
       "      <td>TRAPPIST-1e</td>\n",
       "      <td>44.0</td>\n",
       "      <td>False</td>\n",
       "      <td>126.0</td>\n",
       "      <td>4688.0</td>\n",
       "      <td>0.0</td>\n",
       "      <td>0.0</td>\n",
       "      <td>12.0</td>\n",
       "      <td>Hontichre</td>\n",
       "      <td>True</td>\n",
       "      <td>9280</td>\n",
       "      <td>E</td>\n",
       "      <td>608</td>\n",
       "      <td>S</td>\n",
       "    </tr>\n",
       "  </tbody>\n",
       "</table>\n",
       "<p>8693 rows × 16 columns</p>\n",
       "</div>"
      ],
      "text/plain": [
       "     HomePlanet CryoSleep    Destination   Age    VIP  RoomService  FoodCourt  \\\n",
       "0        Europa     False    TRAPPIST-1e  39.0  False          0.0        0.0   \n",
       "1         Earth     False    TRAPPIST-1e  24.0  False        109.0        9.0   \n",
       "2        Europa     False    TRAPPIST-1e  58.0   True         43.0     3576.0   \n",
       "3        Europa     False    TRAPPIST-1e  33.0  False          0.0     1283.0   \n",
       "4         Earth     False    TRAPPIST-1e  16.0  False        303.0       70.0   \n",
       "...         ...       ...            ...   ...    ...          ...        ...   \n",
       "8688     Europa     False    55 Cancri e  41.0   True          0.0     6819.0   \n",
       "8689      Earth      True  PSO J318.5-22  18.0  False          0.0        0.0   \n",
       "8690      Earth     False    TRAPPIST-1e  26.0  False          0.0        0.0   \n",
       "8691     Europa     False    55 Cancri e  32.0  False          0.0     1049.0   \n",
       "8692     Europa     False    TRAPPIST-1e  44.0  False        126.0     4688.0   \n",
       "\n",
       "      ShoppingMall     Spa  VRDeck         Name  Transported GroupNumber  \\\n",
       "0              0.0     0.0     0.0    Ofracculy        False        0001   \n",
       "1             25.0   549.0    44.0        Vines         True        0002   \n",
       "2              0.0  6715.0    49.0       Susent        False        0003   \n",
       "3            371.0  3329.0   193.0       Susent        False        0003   \n",
       "4            151.0   565.0     2.0  Santantines         True        0004   \n",
       "...            ...     ...     ...          ...          ...         ...   \n",
       "8688           0.0  1643.0    74.0    Noxnuther        False        9276   \n",
       "8689           0.0     0.0     0.0    Mondalley        False        9278   \n",
       "8690        1872.0     1.0     0.0       Connon         True        9279   \n",
       "8691           0.0   353.0  3235.0    Hontichre        False        9280   \n",
       "8692           0.0     0.0    12.0    Hontichre         True        9280   \n",
       "\n",
       "     Cabin_0 Cabin_1 Cabin_2  \n",
       "0          B       0       P  \n",
       "1          F       0       S  \n",
       "2          A       0       S  \n",
       "3          A       0       S  \n",
       "4          F       1       S  \n",
       "...      ...     ...     ...  \n",
       "8688       A      98       P  \n",
       "8689       G    1499       S  \n",
       "8690       G    1500       S  \n",
       "8691       E     608       S  \n",
       "8692       E     608       S  \n",
       "\n",
       "[8693 rows x 16 columns]"
      ]
     },
     "execution_count": 76,
     "metadata": {},
     "output_type": "execute_result"
    }
   ],
   "source": [
    "train"
   ]
  },
  {
   "cell_type": "code",
   "execution_count": 77,
   "metadata": {},
   "outputs": [
    {
     "name": "stderr",
     "output_type": "stream",
     "text": [
      "C:\\Users\\User\\AppData\\Local\\Temp\\ipykernel_27520\\1651317037.py:6: SettingWithCopyWarning: \n",
      "A value is trying to be set on a copy of a slice from a DataFrame.\n",
      "Try using .loc[row_indexer,col_indexer] = value instead\n",
      "\n",
      "See the caveats in the documentation: https://pandas.pydata.org/pandas-docs/stable/user_guide/indexing.html#returning-a-view-versus-a-copy\n",
      "  roomservice_groupnum_mean['G_RoomService'] = roomservice_groupnum_mean['RoomService']\n",
      "C:\\Users\\User\\AppData\\Local\\Temp\\ipykernel_27520\\1651317037.py:10: SettingWithCopyWarning: \n",
      "A value is trying to be set on a copy of a slice from a DataFrame.\n",
      "Try using .loc[row_indexer,col_indexer] = value instead\n",
      "\n",
      "See the caveats in the documentation: https://pandas.pydata.org/pandas-docs/stable/user_guide/indexing.html#returning-a-view-versus-a-copy\n",
      "  foodcourt_groupnum_mean['G_FoodCourt'] = foodcourt_groupnum_mean['FoodCourt']\n",
      "C:\\Users\\User\\AppData\\Local\\Temp\\ipykernel_27520\\1651317037.py:14: SettingWithCopyWarning: \n",
      "A value is trying to be set on a copy of a slice from a DataFrame.\n",
      "Try using .loc[row_indexer,col_indexer] = value instead\n",
      "\n",
      "See the caveats in the documentation: https://pandas.pydata.org/pandas-docs/stable/user_guide/indexing.html#returning-a-view-versus-a-copy\n",
      "  shoppingmall_groupnum_mean['G_ShoppingMall'] = shoppingmall_groupnum_mean['ShoppingMall']\n",
      "C:\\Users\\User\\AppData\\Local\\Temp\\ipykernel_27520\\1651317037.py:18: SettingWithCopyWarning: \n",
      "A value is trying to be set on a copy of a slice from a DataFrame.\n",
      "Try using .loc[row_indexer,col_indexer] = value instead\n",
      "\n",
      "See the caveats in the documentation: https://pandas.pydata.org/pandas-docs/stable/user_guide/indexing.html#returning-a-view-versus-a-copy\n",
      "  spa_groupnum_mean['G_Spa'] = spa_groupnum_mean['Spa']\n",
      "C:\\Users\\User\\AppData\\Local\\Temp\\ipykernel_27520\\1651317037.py:22: SettingWithCopyWarning: \n",
      "A value is trying to be set on a copy of a slice from a DataFrame.\n",
      "Try using .loc[row_indexer,col_indexer] = value instead\n",
      "\n",
      "See the caveats in the documentation: https://pandas.pydata.org/pandas-docs/stable/user_guide/indexing.html#returning-a-view-versus-a-copy\n",
      "  vrdeck_groupnum_mean['G_VRDeck'] = vrdeck_groupnum_mean['VRDeck']\n"
     ]
    }
   ],
   "source": [
    "train['CryoSleep'] = train['CryoSleep'].astype(int)\n",
    "train['VIP'] = train['VIP'].astype(int)\n",
    "group_mean = train.groupby('GroupNumber').mean().reset_index()\n",
    "\n",
    "roomservice_groupnum_mean = group_mean[['GroupNumber','RoomService']]\n",
    "roomservice_groupnum_mean['G_RoomService'] = roomservice_groupnum_mean['RoomService']\n",
    "roomservice_groupnum_mean = roomservice_groupnum_mean.drop('RoomService',axis=1)\n",
    "\n",
    "foodcourt_groupnum_mean = group_mean[['GroupNumber','FoodCourt']]\n",
    "foodcourt_groupnum_mean['G_FoodCourt'] = foodcourt_groupnum_mean['FoodCourt']\n",
    "foodcourt_groupnum_mean = foodcourt_groupnum_mean.drop('FoodCourt',axis=1)\n",
    "\n",
    "shoppingmall_groupnum_mean = group_mean[['GroupNumber','ShoppingMall']]\n",
    "shoppingmall_groupnum_mean['G_ShoppingMall'] = shoppingmall_groupnum_mean['ShoppingMall']\n",
    "shoppingmall_groupnum_mean = shoppingmall_groupnum_mean.drop('ShoppingMall',axis=1)\n",
    "\n",
    "spa_groupnum_mean = group_mean[['GroupNumber','Spa']]\n",
    "spa_groupnum_mean['G_Spa'] = spa_groupnum_mean['Spa']\n",
    "spa_groupnum_mean = spa_groupnum_mean.drop('Spa',axis=1)\n",
    "\n",
    "vrdeck_groupnum_mean = group_mean[['GroupNumber','VRDeck']]\n",
    "vrdeck_groupnum_mean['G_VRDeck'] = vrdeck_groupnum_mean['VRDeck']\n",
    "vrdeck_groupnum_mean = vrdeck_groupnum_mean.drop('VRDeck',axis=1)\n",
    "\n",
    "cryo_groupnum_comp_transported = (group_mean['CryoSleep'] <= group_mean['Transported'])\n",
    "df = {'GroupNumber': group_mean['GroupNumber'],\n",
    "      'G_CryoSleep_Transported': cryo_groupnum_comp_transported}\n",
    "cryo_groupnum_comp_transported = pd.DataFrame(df)\n",
    "\n",
    "vip_groupnum_comp_transported = (group_mean['VIP'] <= group_mean['Transported'])\n",
    "df = {'GroupNumber': group_mean['GroupNumber'],\n",
    "      'G_VIP_Transported': vip_groupnum_comp_transported}\n",
    "vip_groupnum_comp_transported = pd.DataFrame(df)\n",
    "\n",
    "total_groupnum_mean = group_mean.drop(['GroupNumber','Age','VIP','CryoSleep','Transported'],axis=1).mean(axis=1)\n",
    "df = {'GroupNumber': group_mean['GroupNumber'],\n",
    "      'G_Total': total_groupnum_mean}\n",
    "total_groupnum_mean = pd.DataFrame(df)\n",
    "\n",
    "train = train.merge(roomservice_groupnum_mean)\n",
    "train = train.merge(foodcourt_groupnum_mean)\n",
    "train = train.merge(shoppingmall_groupnum_mean)\n",
    "train = train.merge(spa_groupnum_mean)\n",
    "train = train.merge(vrdeck_groupnum_mean)\n",
    "train = train.merge(cryo_groupnum_comp_transported)\n",
    "train = train.merge(vip_groupnum_comp_transported)\n",
    "train = train.merge(total_groupnum_mean)"
   ]
  },
  {
   "cell_type": "code",
   "execution_count": 78,
   "metadata": {},
   "outputs": [
    {
     "name": "stderr",
     "output_type": "stream",
     "text": [
      "C:\\Users\\User\\AppData\\Local\\Temp\\ipykernel_27520\\2548659455.py:4: SettingWithCopyWarning: \n",
      "A value is trying to be set on a copy of a slice from a DataFrame.\n",
      "Try using .loc[row_indexer,col_indexer] = value instead\n",
      "\n",
      "See the caveats in the documentation: https://pandas.pydata.org/pandas-docs/stable/user_guide/indexing.html#returning-a-view-versus-a-copy\n",
      "  roomservice_homedest_mean['HD_RoomService'] = roomservice_homedest_mean['RoomService']\n",
      "C:\\Users\\User\\AppData\\Local\\Temp\\ipykernel_27520\\2548659455.py:8: SettingWithCopyWarning: \n",
      "A value is trying to be set on a copy of a slice from a DataFrame.\n",
      "Try using .loc[row_indexer,col_indexer] = value instead\n",
      "\n",
      "See the caveats in the documentation: https://pandas.pydata.org/pandas-docs/stable/user_guide/indexing.html#returning-a-view-versus-a-copy\n",
      "  FoodCourt_homedest_mean['HD_FoodCourt'] = FoodCourt_homedest_mean['FoodCourt']\n",
      "C:\\Users\\User\\AppData\\Local\\Temp\\ipykernel_27520\\2548659455.py:12: SettingWithCopyWarning: \n",
      "A value is trying to be set on a copy of a slice from a DataFrame.\n",
      "Try using .loc[row_indexer,col_indexer] = value instead\n",
      "\n",
      "See the caveats in the documentation: https://pandas.pydata.org/pandas-docs/stable/user_guide/indexing.html#returning-a-view-versus-a-copy\n",
      "  ShoppingMall_homedest_mean['HD_ShoppingMall'] = ShoppingMall_homedest_mean['ShoppingMall']\n",
      "C:\\Users\\User\\AppData\\Local\\Temp\\ipykernel_27520\\2548659455.py:16: SettingWithCopyWarning: \n",
      "A value is trying to be set on a copy of a slice from a DataFrame.\n",
      "Try using .loc[row_indexer,col_indexer] = value instead\n",
      "\n",
      "See the caveats in the documentation: https://pandas.pydata.org/pandas-docs/stable/user_guide/indexing.html#returning-a-view-versus-a-copy\n",
      "  Spa_homedest_mean['HD_Spa'] = Spa_homedest_mean['Spa']\n",
      "C:\\Users\\User\\AppData\\Local\\Temp\\ipykernel_27520\\2548659455.py:20: SettingWithCopyWarning: \n",
      "A value is trying to be set on a copy of a slice from a DataFrame.\n",
      "Try using .loc[row_indexer,col_indexer] = value instead\n",
      "\n",
      "See the caveats in the documentation: https://pandas.pydata.org/pandas-docs/stable/user_guide/indexing.html#returning-a-view-versus-a-copy\n",
      "  VRDeck_homedest_mean['HD_VRDeck'] = VRDeck_homedest_mean['VRDeck']\n",
      "C:\\Users\\User\\AppData\\Local\\Temp\\ipykernel_27520\\2548659455.py:24: SettingWithCopyWarning: \n",
      "A value is trying to be set on a copy of a slice from a DataFrame.\n",
      "Try using .loc[row_indexer,col_indexer] = value instead\n",
      "\n",
      "See the caveats in the documentation: https://pandas.pydata.org/pandas-docs/stable/user_guide/indexing.html#returning-a-view-versus-a-copy\n",
      "  CryoSleep_homedest_mean['HD_CryoSleep'] = CryoSleep_homedest_mean['CryoSleep']\n",
      "C:\\Users\\User\\AppData\\Local\\Temp\\ipykernel_27520\\2548659455.py:28: SettingWithCopyWarning: \n",
      "A value is trying to be set on a copy of a slice from a DataFrame.\n",
      "Try using .loc[row_indexer,col_indexer] = value instead\n",
      "\n",
      "See the caveats in the documentation: https://pandas.pydata.org/pandas-docs/stable/user_guide/indexing.html#returning-a-view-versus-a-copy\n",
      "  VIP_homedest_mean['HD_VIP'] = VIP_homedest_mean['VIP']\n"
     ]
    }
   ],
   "source": [
    "home_dest_mean = train.groupby(['HomePlanet','Destination']).mean().reset_index()\n",
    "\n",
    "roomservice_homedest_mean = home_dest_mean[['HomePlanet','Destination','RoomService']]\n",
    "roomservice_homedest_mean['HD_RoomService'] = roomservice_homedest_mean['RoomService']\n",
    "roomservice_homedest_mean = roomservice_homedest_mean.drop('RoomService',axis=1)\n",
    "\n",
    "FoodCourt_homedest_mean = home_dest_mean[['HomePlanet','Destination','FoodCourt']]\n",
    "FoodCourt_homedest_mean['HD_FoodCourt'] = FoodCourt_homedest_mean['FoodCourt']\n",
    "FoodCourt_homedest_mean = FoodCourt_homedest_mean.drop('FoodCourt',axis=1)\n",
    "\n",
    "ShoppingMall_homedest_mean = home_dest_mean[['HomePlanet','Destination','ShoppingMall']]\n",
    "ShoppingMall_homedest_mean['HD_ShoppingMall'] = ShoppingMall_homedest_mean['ShoppingMall']\n",
    "ShoppingMall_homedest_mean = ShoppingMall_homedest_mean.drop('ShoppingMall',axis=1)\n",
    "\n",
    "Spa_homedest_mean = home_dest_mean[['HomePlanet','Destination','Spa']]\n",
    "Spa_homedest_mean['HD_Spa'] = Spa_homedest_mean['Spa']\n",
    "Spa_homedest_mean = Spa_homedest_mean.drop('Spa',axis=1)\n",
    "\n",
    "VRDeck_homedest_mean = home_dest_mean[['HomePlanet','Destination','VRDeck']]\n",
    "VRDeck_homedest_mean['HD_VRDeck'] = VRDeck_homedest_mean['VRDeck']\n",
    "VRDeck_homedest_mean = VRDeck_homedest_mean.drop('VRDeck',axis=1)\n",
    "\n",
    "CryoSleep_homedest_mean = home_dest_mean[['HomePlanet','Destination','CryoSleep']]\n",
    "CryoSleep_homedest_mean['HD_CryoSleep'] = CryoSleep_homedest_mean['CryoSleep']\n",
    "CryoSleep_homedest_mean = CryoSleep_homedest_mean.drop('CryoSleep',axis=1)\n",
    "\n",
    "VIP_homedest_mean = home_dest_mean[['HomePlanet','Destination','VIP']]\n",
    "VIP_homedest_mean['HD_VIP'] = VIP_homedest_mean['VIP']\n",
    "VIP_homedest_mean = VIP_homedest_mean.drop('VIP',axis=1)\n",
    "\n",
    "train = train.merge(roomservice_homedest_mean)\n",
    "train = train.merge(FoodCourt_homedest_mean)\n",
    "train = train.merge(ShoppingMall_homedest_mean)\n",
    "train = train.merge(Spa_homedest_mean)\n",
    "train = train.merge(VRDeck_homedest_mean)\n",
    "train = train.merge(CryoSleep_homedest_mean)\n",
    "train = train.merge(VIP_homedest_mean)\n",
    "\n"
   ]
  },
  {
   "cell_type": "code",
   "execution_count": 79,
   "metadata": {},
   "outputs": [
    {
     "name": "stderr",
     "output_type": "stream",
     "text": [
      "C:\\Users\\User\\AppData\\Local\\Temp\\ipykernel_27520\\3896027072.py:4: SettingWithCopyWarning: \n",
      "A value is trying to be set on a copy of a slice from a DataFrame.\n",
      "Try using .loc[row_indexer,col_indexer] = value instead\n",
      "\n",
      "See the caveats in the documentation: https://pandas.pydata.org/pandas-docs/stable/user_guide/indexing.html#returning-a-view-versus-a-copy\n",
      "  roomservice_cabin_mean['C_RoomService'] = roomservice_cabin_mean['RoomService']\n",
      "C:\\Users\\User\\AppData\\Local\\Temp\\ipykernel_27520\\3896027072.py:8: SettingWithCopyWarning: \n",
      "A value is trying to be set on a copy of a slice from a DataFrame.\n",
      "Try using .loc[row_indexer,col_indexer] = value instead\n",
      "\n",
      "See the caveats in the documentation: https://pandas.pydata.org/pandas-docs/stable/user_guide/indexing.html#returning-a-view-versus-a-copy\n",
      "  FoodCourt_cabin_mean['C_FoodCourt'] = FoodCourt_cabin_mean['FoodCourt']\n",
      "C:\\Users\\User\\AppData\\Local\\Temp\\ipykernel_27520\\3896027072.py:12: SettingWithCopyWarning: \n",
      "A value is trying to be set on a copy of a slice from a DataFrame.\n",
      "Try using .loc[row_indexer,col_indexer] = value instead\n",
      "\n",
      "See the caveats in the documentation: https://pandas.pydata.org/pandas-docs/stable/user_guide/indexing.html#returning-a-view-versus-a-copy\n",
      "  ShoppingMall_cabin_mean['C_ShoppingMall'] = ShoppingMall_cabin_mean['ShoppingMall']\n",
      "C:\\Users\\User\\AppData\\Local\\Temp\\ipykernel_27520\\3896027072.py:16: SettingWithCopyWarning: \n",
      "A value is trying to be set on a copy of a slice from a DataFrame.\n",
      "Try using .loc[row_indexer,col_indexer] = value instead\n",
      "\n",
      "See the caveats in the documentation: https://pandas.pydata.org/pandas-docs/stable/user_guide/indexing.html#returning-a-view-versus-a-copy\n",
      "  Spa_cabin_mean['C_Spa'] = Spa_cabin_mean['Spa']\n",
      "C:\\Users\\User\\AppData\\Local\\Temp\\ipykernel_27520\\3896027072.py:20: SettingWithCopyWarning: \n",
      "A value is trying to be set on a copy of a slice from a DataFrame.\n",
      "Try using .loc[row_indexer,col_indexer] = value instead\n",
      "\n",
      "See the caveats in the documentation: https://pandas.pydata.org/pandas-docs/stable/user_guide/indexing.html#returning-a-view-versus-a-copy\n",
      "  VRDeck_cabin_mean['C_VRDeck'] = VRDeck_cabin_mean['VRDeck']\n",
      "C:\\Users\\User\\AppData\\Local\\Temp\\ipykernel_27520\\3896027072.py:24: SettingWithCopyWarning: \n",
      "A value is trying to be set on a copy of a slice from a DataFrame.\n",
      "Try using .loc[row_indexer,col_indexer] = value instead\n",
      "\n",
      "See the caveats in the documentation: https://pandas.pydata.org/pandas-docs/stable/user_guide/indexing.html#returning-a-view-versus-a-copy\n",
      "  CryoSleep_cabin_mean['C_CryoSleep'] = CryoSleep_cabin_mean['CryoSleep']\n",
      "C:\\Users\\User\\AppData\\Local\\Temp\\ipykernel_27520\\3896027072.py:28: SettingWithCopyWarning: \n",
      "A value is trying to be set on a copy of a slice from a DataFrame.\n",
      "Try using .loc[row_indexer,col_indexer] = value instead\n",
      "\n",
      "See the caveats in the documentation: https://pandas.pydata.org/pandas-docs/stable/user_guide/indexing.html#returning-a-view-versus-a-copy\n",
      "  VIP_cabin_mean['C_VIP'] = VIP_cabin_mean['VIP']\n"
     ]
    }
   ],
   "source": [
    "cabin_mean = train.groupby(['Cabin_0','Cabin_2']).mean().reset_index()\n",
    "\n",
    "roomservice_cabin_mean = cabin_mean[['Cabin_0','Cabin_2','RoomService']]\n",
    "roomservice_cabin_mean['C_RoomService'] = roomservice_cabin_mean['RoomService']\n",
    "roomservice_cabin_mean = roomservice_cabin_mean.drop('RoomService',axis=1)\n",
    "\n",
    "FoodCourt_cabin_mean = cabin_mean[['Cabin_0','Cabin_2','FoodCourt']]\n",
    "FoodCourt_cabin_mean['C_FoodCourt'] = FoodCourt_cabin_mean['FoodCourt']\n",
    "FoodCourt_cabin_mean = FoodCourt_cabin_mean.drop('FoodCourt',axis=1)\n",
    "\n",
    "ShoppingMall_cabin_mean = cabin_mean[['Cabin_0','Cabin_2','ShoppingMall']]\n",
    "ShoppingMall_cabin_mean['C_ShoppingMall'] = ShoppingMall_cabin_mean['ShoppingMall']\n",
    "ShoppingMall_cabin_mean = ShoppingMall_cabin_mean.drop('ShoppingMall',axis=1)\n",
    "\n",
    "Spa_cabin_mean = cabin_mean[['Cabin_0','Cabin_2','Spa']]\n",
    "Spa_cabin_mean['C_Spa'] = Spa_cabin_mean['Spa']\n",
    "Spa_cabin_mean = Spa_cabin_mean.drop('Spa',axis=1)\n",
    "\n",
    "VRDeck_cabin_mean = cabin_mean[['Cabin_0','Cabin_2','VRDeck']]\n",
    "VRDeck_cabin_mean['C_VRDeck'] = VRDeck_cabin_mean['VRDeck']\n",
    "VRDeck_cabin_mean = VRDeck_cabin_mean.drop('VRDeck',axis=1)\n",
    "\n",
    "CryoSleep_cabin_mean = cabin_mean[['Cabin_0','Cabin_2','CryoSleep']]\n",
    "CryoSleep_cabin_mean['C_CryoSleep'] = CryoSleep_cabin_mean['CryoSleep']\n",
    "CryoSleep_cabin_mean = CryoSleep_cabin_mean.drop('CryoSleep',axis=1)\n",
    "\n",
    "VIP_cabin_mean = cabin_mean[['Cabin_0','Cabin_2','VIP']]\n",
    "VIP_cabin_mean['C_VIP'] = VIP_cabin_mean['VIP']\n",
    "VIP_cabin_mean = VIP_cabin_mean.drop('VIP',axis=1)\n",
    "\n",
    "train = train.merge(roomservice_cabin_mean)\n",
    "train = train.merge(FoodCourt_cabin_mean)\n",
    "train = train.merge(ShoppingMall_cabin_mean)\n",
    "train = train.merge(Spa_cabin_mean)\n",
    "train = train.merge(VRDeck_cabin_mean)\n",
    "train = train.merge(CryoSleep_cabin_mean)\n",
    "train = train.merge(VIP_cabin_mean)"
   ]
  },
  {
   "cell_type": "code",
   "execution_count": 80,
   "metadata": {},
   "outputs": [
    {
     "name": "stderr",
     "output_type": "stream",
     "text": [
      "C:\\Users\\User\\AppData\\Local\\Temp\\ipykernel_27520\\837221856.py:6: SettingWithCopyWarning: \n",
      "A value is trying to be set on a copy of a slice from a DataFrame.\n",
      "Try using .loc[row_indexer,col_indexer] = value instead\n",
      "\n",
      "See the caveats in the documentation: https://pandas.pydata.org/pandas-docs/stable/user_guide/indexing.html#returning-a-view-versus-a-copy\n",
      "  roomservice_groupnum_mean['G_RoomService'] = roomservice_groupnum_mean['RoomService']\n"
     ]
    },
    {
     "name": "stderr",
     "output_type": "stream",
     "text": [
      "C:\\Users\\User\\AppData\\Local\\Temp\\ipykernel_27520\\837221856.py:10: SettingWithCopyWarning: \n",
      "A value is trying to be set on a copy of a slice from a DataFrame.\n",
      "Try using .loc[row_indexer,col_indexer] = value instead\n",
      "\n",
      "See the caveats in the documentation: https://pandas.pydata.org/pandas-docs/stable/user_guide/indexing.html#returning-a-view-versus-a-copy\n",
      "  foodcourt_groupnum_mean['G_FoodCourt'] = foodcourt_groupnum_mean['FoodCourt']\n",
      "C:\\Users\\User\\AppData\\Local\\Temp\\ipykernel_27520\\837221856.py:14: SettingWithCopyWarning: \n",
      "A value is trying to be set on a copy of a slice from a DataFrame.\n",
      "Try using .loc[row_indexer,col_indexer] = value instead\n",
      "\n",
      "See the caveats in the documentation: https://pandas.pydata.org/pandas-docs/stable/user_guide/indexing.html#returning-a-view-versus-a-copy\n",
      "  shoppingmall_groupnum_mean['G_ShoppingMall'] = shoppingmall_groupnum_mean['ShoppingMall']\n",
      "C:\\Users\\User\\AppData\\Local\\Temp\\ipykernel_27520\\837221856.py:18: SettingWithCopyWarning: \n",
      "A value is trying to be set on a copy of a slice from a DataFrame.\n",
      "Try using .loc[row_indexer,col_indexer] = value instead\n",
      "\n",
      "See the caveats in the documentation: https://pandas.pydata.org/pandas-docs/stable/user_guide/indexing.html#returning-a-view-versus-a-copy\n",
      "  spa_groupnum_mean['G_Spa'] = spa_groupnum_mean['Spa']\n",
      "C:\\Users\\User\\AppData\\Local\\Temp\\ipykernel_27520\\837221856.py:22: SettingWithCopyWarning: \n",
      "A value is trying to be set on a copy of a slice from a DataFrame.\n",
      "Try using .loc[row_indexer,col_indexer] = value instead\n",
      "\n",
      "See the caveats in the documentation: https://pandas.pydata.org/pandas-docs/stable/user_guide/indexing.html#returning-a-view-versus-a-copy\n",
      "  vrdeck_groupnum_mean['G_VRDeck'] = vrdeck_groupnum_mean['VRDeck']\n"
     ]
    }
   ],
   "source": [
    "test['CryoSleep'] = test['CryoSleep'].astype(int)\n",
    "test['VIP'] = test['VIP'].astype(int)\n",
    "group_mean = test.groupby('GroupNumber').mean().reset_index()\n",
    "\n",
    "roomservice_groupnum_mean = group_mean[['GroupNumber','RoomService']]\n",
    "roomservice_groupnum_mean['G_RoomService'] = roomservice_groupnum_mean['RoomService']\n",
    "roomservice_groupnum_mean = roomservice_groupnum_mean.drop('RoomService',axis=1)\n",
    "\n",
    "foodcourt_groupnum_mean = group_mean[['GroupNumber','FoodCourt']]\n",
    "foodcourt_groupnum_mean['G_FoodCourt'] = foodcourt_groupnum_mean['FoodCourt']\n",
    "foodcourt_groupnum_mean = foodcourt_groupnum_mean.drop('FoodCourt',axis=1)\n",
    "\n",
    "shoppingmall_groupnum_mean = group_mean[['GroupNumber','ShoppingMall']]\n",
    "shoppingmall_groupnum_mean['G_ShoppingMall'] = shoppingmall_groupnum_mean['ShoppingMall']\n",
    "shoppingmall_groupnum_mean = shoppingmall_groupnum_mean.drop('ShoppingMall',axis=1)\n",
    "\n",
    "spa_groupnum_mean = group_mean[['GroupNumber','Spa']]\n",
    "spa_groupnum_mean['G_Spa'] = spa_groupnum_mean['Spa']\n",
    "spa_groupnum_mean = spa_groupnum_mean.drop('Spa',axis=1)\n",
    "\n",
    "vrdeck_groupnum_mean = group_mean[['GroupNumber','VRDeck']]\n",
    "vrdeck_groupnum_mean['G_VRDeck'] = vrdeck_groupnum_mean['VRDeck']\n",
    "vrdeck_groupnum_mean = vrdeck_groupnum_mean.drop('VRDeck',axis=1)\n",
    "\n",
    "total_groupnum_mean = group_mean.drop(['GroupNumber','Age','VIP','CryoSleep'],axis=1).mean(axis=1)\n",
    "df = {'GroupNumber': group_mean['GroupNumber'],\n",
    "      'G_Total': total_groupnum_mean}\n",
    "total_groupnum_mean = pd.DataFrame(df)\n",
    "\n",
    "test = test.merge(roomservice_groupnum_mean)\n",
    "test = test.merge(foodcourt_groupnum_mean)\n",
    "test = test.merge(shoppingmall_groupnum_mean)\n",
    "test = test.merge(spa_groupnum_mean)\n",
    "test = test.merge(vrdeck_groupnum_mean)\n",
    "test = test.merge(total_groupnum_mean)"
   ]
  },
  {
   "cell_type": "code",
   "execution_count": 81,
   "metadata": {},
   "outputs": [
    {
     "name": "stderr",
     "output_type": "stream",
     "text": [
      "C:\\Users\\User\\AppData\\Local\\Temp\\ipykernel_27520\\1763725671.py:4: SettingWithCopyWarning: \n",
      "A value is trying to be set on a copy of a slice from a DataFrame.\n",
      "Try using .loc[row_indexer,col_indexer] = value instead\n",
      "\n",
      "See the caveats in the documentation: https://pandas.pydata.org/pandas-docs/stable/user_guide/indexing.html#returning-a-view-versus-a-copy\n",
      "  roomservice_homedest_mean['HD_RoomService'] = roomservice_homedest_mean['RoomService']\n",
      "C:\\Users\\User\\AppData\\Local\\Temp\\ipykernel_27520\\1763725671.py:8: SettingWithCopyWarning: \n",
      "A value is trying to be set on a copy of a slice from a DataFrame.\n",
      "Try using .loc[row_indexer,col_indexer] = value instead\n",
      "\n",
      "See the caveats in the documentation: https://pandas.pydata.org/pandas-docs/stable/user_guide/indexing.html#returning-a-view-versus-a-copy\n",
      "  FoodCourt_homedest_mean['HD_FoodCourt'] = FoodCourt_homedest_mean['FoodCourt']\n",
      "C:\\Users\\User\\AppData\\Local\\Temp\\ipykernel_27520\\1763725671.py:12: SettingWithCopyWarning: \n",
      "A value is trying to be set on a copy of a slice from a DataFrame.\n",
      "Try using .loc[row_indexer,col_indexer] = value instead\n",
      "\n",
      "See the caveats in the documentation: https://pandas.pydata.org/pandas-docs/stable/user_guide/indexing.html#returning-a-view-versus-a-copy\n",
      "  ShoppingMall_homedest_mean['HD_ShoppingMall'] = ShoppingMall_homedest_mean['ShoppingMall']\n",
      "C:\\Users\\User\\AppData\\Local\\Temp\\ipykernel_27520\\1763725671.py:16: SettingWithCopyWarning: \n",
      "A value is trying to be set on a copy of a slice from a DataFrame.\n",
      "Try using .loc[row_indexer,col_indexer] = value instead\n",
      "\n",
      "See the caveats in the documentation: https://pandas.pydata.org/pandas-docs/stable/user_guide/indexing.html#returning-a-view-versus-a-copy\n",
      "  Spa_homedest_mean['HD_Spa'] = Spa_homedest_mean['Spa']\n",
      "C:\\Users\\User\\AppData\\Local\\Temp\\ipykernel_27520\\1763725671.py:20: SettingWithCopyWarning: \n",
      "A value is trying to be set on a copy of a slice from a DataFrame.\n",
      "Try using .loc[row_indexer,col_indexer] = value instead\n",
      "\n",
      "See the caveats in the documentation: https://pandas.pydata.org/pandas-docs/stable/user_guide/indexing.html#returning-a-view-versus-a-copy\n",
      "  VRDeck_homedest_mean['HD_VRDeck'] = VRDeck_homedest_mean['VRDeck']\n",
      "C:\\Users\\User\\AppData\\Local\\Temp\\ipykernel_27520\\1763725671.py:24: SettingWithCopyWarning: \n",
      "A value is trying to be set on a copy of a slice from a DataFrame.\n",
      "Try using .loc[row_indexer,col_indexer] = value instead\n",
      "\n",
      "See the caveats in the documentation: https://pandas.pydata.org/pandas-docs/stable/user_guide/indexing.html#returning-a-view-versus-a-copy\n",
      "  CryoSleep_homedest_mean['HD_CryoSleep'] = CryoSleep_homedest_mean['CryoSleep']\n",
      "C:\\Users\\User\\AppData\\Local\\Temp\\ipykernel_27520\\1763725671.py:28: SettingWithCopyWarning: \n",
      "A value is trying to be set on a copy of a slice from a DataFrame.\n",
      "Try using .loc[row_indexer,col_indexer] = value instead\n",
      "\n",
      "See the caveats in the documentation: https://pandas.pydata.org/pandas-docs/stable/user_guide/indexing.html#returning-a-view-versus-a-copy\n",
      "  VIP_homedest_mean['HD_VIP'] = VIP_homedest_mean['VIP']\n"
     ]
    }
   ],
   "source": [
    "home_dest_mean = test.groupby(['HomePlanet','Destination']).mean().reset_index()\n",
    "\n",
    "roomservice_homedest_mean = home_dest_mean[['HomePlanet','Destination','RoomService']]\n",
    "roomservice_homedest_mean['HD_RoomService'] = roomservice_homedest_mean['RoomService']\n",
    "roomservice_homedest_mean = roomservice_homedest_mean.drop('RoomService',axis=1)\n",
    "\n",
    "FoodCourt_homedest_mean = home_dest_mean[['HomePlanet','Destination','FoodCourt']]\n",
    "FoodCourt_homedest_mean['HD_FoodCourt'] = FoodCourt_homedest_mean['FoodCourt']\n",
    "FoodCourt_homedest_mean = FoodCourt_homedest_mean.drop('FoodCourt',axis=1)\n",
    "\n",
    "ShoppingMall_homedest_mean = home_dest_mean[['HomePlanet','Destination','ShoppingMall']]\n",
    "ShoppingMall_homedest_mean['HD_ShoppingMall'] = ShoppingMall_homedest_mean['ShoppingMall']\n",
    "ShoppingMall_homedest_mean = ShoppingMall_homedest_mean.drop('ShoppingMall',axis=1)\n",
    "\n",
    "Spa_homedest_mean = home_dest_mean[['HomePlanet','Destination','Spa']]\n",
    "Spa_homedest_mean['HD_Spa'] = Spa_homedest_mean['Spa']\n",
    "Spa_homedest_mean = Spa_homedest_mean.drop('Spa',axis=1)\n",
    "\n",
    "VRDeck_homedest_mean = home_dest_mean[['HomePlanet','Destination','VRDeck']]\n",
    "VRDeck_homedest_mean['HD_VRDeck'] = VRDeck_homedest_mean['VRDeck']\n",
    "VRDeck_homedest_mean = VRDeck_homedest_mean.drop('VRDeck',axis=1)\n",
    "\n",
    "CryoSleep_homedest_mean = home_dest_mean[['HomePlanet','Destination','CryoSleep']]\n",
    "CryoSleep_homedest_mean['HD_CryoSleep'] = CryoSleep_homedest_mean['CryoSleep']\n",
    "CryoSleep_homedest_mean = CryoSleep_homedest_mean.drop('CryoSleep',axis=1)\n",
    "\n",
    "VIP_homedest_mean = home_dest_mean[['HomePlanet','Destination','VIP']]\n",
    "VIP_homedest_mean['HD_VIP'] = VIP_homedest_mean['VIP']\n",
    "VIP_homedest_mean = VIP_homedest_mean.drop('VIP',axis=1)\n",
    "\n",
    "test = test.merge(roomservice_homedest_mean)\n",
    "test = test.merge(FoodCourt_homedest_mean)\n",
    "test = test.merge(ShoppingMall_homedest_mean)\n",
    "test = test.merge(Spa_homedest_mean)\n",
    "test = test.merge(VRDeck_homedest_mean)\n",
    "test = test.merge(CryoSleep_homedest_mean)\n",
    "test = test.merge(VIP_homedest_mean)"
   ]
  },
  {
   "cell_type": "code",
   "execution_count": 82,
   "metadata": {},
   "outputs": [
    {
     "name": "stderr",
     "output_type": "stream",
     "text": [
      "C:\\Users\\User\\AppData\\Local\\Temp\\ipykernel_27520\\3826708943.py:4: SettingWithCopyWarning: \n",
      "A value is trying to be set on a copy of a slice from a DataFrame.\n",
      "Try using .loc[row_indexer,col_indexer] = value instead\n",
      "\n",
      "See the caveats in the documentation: https://pandas.pydata.org/pandas-docs/stable/user_guide/indexing.html#returning-a-view-versus-a-copy\n",
      "  roomservice_cabin_mean['C_RoomService'] = roomservice_cabin_mean['RoomService']\n",
      "C:\\Users\\User\\AppData\\Local\\Temp\\ipykernel_27520\\3826708943.py:8: SettingWithCopyWarning: \n",
      "A value is trying to be set on a copy of a slice from a DataFrame.\n",
      "Try using .loc[row_indexer,col_indexer] = value instead\n",
      "\n",
      "See the caveats in the documentation: https://pandas.pydata.org/pandas-docs/stable/user_guide/indexing.html#returning-a-view-versus-a-copy\n",
      "  FoodCourt_cabin_mean['C_FoodCourt'] = FoodCourt_cabin_mean['FoodCourt']\n",
      "C:\\Users\\User\\AppData\\Local\\Temp\\ipykernel_27520\\3826708943.py:12: SettingWithCopyWarning: \n",
      "A value is trying to be set on a copy of a slice from a DataFrame.\n",
      "Try using .loc[row_indexer,col_indexer] = value instead\n",
      "\n",
      "See the caveats in the documentation: https://pandas.pydata.org/pandas-docs/stable/user_guide/indexing.html#returning-a-view-versus-a-copy\n",
      "  ShoppingMall_cabin_mean['C_ShoppingMall'] = ShoppingMall_cabin_mean['ShoppingMall']\n",
      "C:\\Users\\User\\AppData\\Local\\Temp\\ipykernel_27520\\3826708943.py:16: SettingWithCopyWarning: \n",
      "A value is trying to be set on a copy of a slice from a DataFrame.\n",
      "Try using .loc[row_indexer,col_indexer] = value instead\n",
      "\n",
      "See the caveats in the documentation: https://pandas.pydata.org/pandas-docs/stable/user_guide/indexing.html#returning-a-view-versus-a-copy\n",
      "  Spa_cabin_mean['C_Spa'] = Spa_cabin_mean['Spa']\n",
      "C:\\Users\\User\\AppData\\Local\\Temp\\ipykernel_27520\\3826708943.py:20: SettingWithCopyWarning: \n",
      "A value is trying to be set on a copy of a slice from a DataFrame.\n",
      "Try using .loc[row_indexer,col_indexer] = value instead\n",
      "\n",
      "See the caveats in the documentation: https://pandas.pydata.org/pandas-docs/stable/user_guide/indexing.html#returning-a-view-versus-a-copy\n",
      "  VRDeck_cabin_mean['C_VRDeck'] = VRDeck_cabin_mean['VRDeck']\n",
      "C:\\Users\\User\\AppData\\Local\\Temp\\ipykernel_27520\\3826708943.py:24: SettingWithCopyWarning: \n",
      "A value is trying to be set on a copy of a slice from a DataFrame.\n",
      "Try using .loc[row_indexer,col_indexer] = value instead\n",
      "\n",
      "See the caveats in the documentation: https://pandas.pydata.org/pandas-docs/stable/user_guide/indexing.html#returning-a-view-versus-a-copy\n",
      "  CryoSleep_cabin_mean['C_CryoSleep'] = CryoSleep_cabin_mean['CryoSleep']\n",
      "C:\\Users\\User\\AppData\\Local\\Temp\\ipykernel_27520\\3826708943.py:28: SettingWithCopyWarning: \n",
      "A value is trying to be set on a copy of a slice from a DataFrame.\n",
      "Try using .loc[row_indexer,col_indexer] = value instead\n",
      "\n",
      "See the caveats in the documentation: https://pandas.pydata.org/pandas-docs/stable/user_guide/indexing.html#returning-a-view-versus-a-copy\n",
      "  VIP_cabin_mean['C_VIP'] = VIP_cabin_mean['VIP']\n"
     ]
    }
   ],
   "source": [
    "cabin_mean = test.groupby(['Cabin_0','Cabin_2']).mean().reset_index()\n",
    "\n",
    "roomservice_cabin_mean = cabin_mean[['Cabin_0','Cabin_2','RoomService']]\n",
    "roomservice_cabin_mean['C_RoomService'] = roomservice_cabin_mean['RoomService']\n",
    "roomservice_cabin_mean = roomservice_cabin_mean.drop('RoomService',axis=1)\n",
    "\n",
    "FoodCourt_cabin_mean = cabin_mean[['Cabin_0','Cabin_2','FoodCourt']]\n",
    "FoodCourt_cabin_mean['C_FoodCourt'] = FoodCourt_cabin_mean['FoodCourt']\n",
    "FoodCourt_cabin_mean = FoodCourt_cabin_mean.drop('FoodCourt',axis=1)\n",
    "\n",
    "ShoppingMall_cabin_mean = cabin_mean[['Cabin_0','Cabin_2','ShoppingMall']]\n",
    "ShoppingMall_cabin_mean['C_ShoppingMall'] = ShoppingMall_cabin_mean['ShoppingMall']\n",
    "ShoppingMall_cabin_mean = ShoppingMall_cabin_mean.drop('ShoppingMall',axis=1)\n",
    "\n",
    "Spa_cabin_mean = cabin_mean[['Cabin_0','Cabin_2','Spa']]\n",
    "Spa_cabin_mean['C_Spa'] = Spa_cabin_mean['Spa']\n",
    "Spa_cabin_mean = Spa_cabin_mean.drop('Spa',axis=1)\n",
    "\n",
    "VRDeck_cabin_mean = cabin_mean[['Cabin_0','Cabin_2','VRDeck']]\n",
    "VRDeck_cabin_mean['C_VRDeck'] = VRDeck_cabin_mean['VRDeck']\n",
    "VRDeck_cabin_mean = VRDeck_cabin_mean.drop('VRDeck',axis=1)\n",
    "\n",
    "CryoSleep_cabin_mean = cabin_mean[['Cabin_0','Cabin_2','CryoSleep']]\n",
    "CryoSleep_cabin_mean['C_CryoSleep'] = CryoSleep_cabin_mean['CryoSleep']\n",
    "CryoSleep_cabin_mean = CryoSleep_cabin_mean.drop('CryoSleep',axis=1)\n",
    "\n",
    "VIP_cabin_mean = cabin_mean[['Cabin_0','Cabin_2','VIP']]\n",
    "VIP_cabin_mean['C_VIP'] = VIP_cabin_mean['VIP']\n",
    "VIP_cabin_mean = VIP_cabin_mean.drop('VIP',axis=1)\n",
    "\n",
    "test = test.merge(roomservice_cabin_mean)\n",
    "test = test.merge(FoodCourt_cabin_mean)\n",
    "test = test.merge(ShoppingMall_cabin_mean)\n",
    "test = test.merge(Spa_cabin_mean)\n",
    "test = test.merge(VRDeck_cabin_mean)\n",
    "test = test.merge(CryoSleep_cabin_mean)\n",
    "test = test.merge(VIP_cabin_mean)"
   ]
  },
  {
   "cell_type": "code",
   "execution_count": 83,
   "metadata": {},
   "outputs": [],
   "source": [
    "train = train.drop(['Cabin_1','Name','GroupNumber'],axis=1)"
   ]
  },
  {
   "cell_type": "code",
   "execution_count": 84,
   "metadata": {},
   "outputs": [],
   "source": [
    "test = test.drop(['Cabin_1','Name','GroupNumber'],axis=1)"
   ]
  },
  {
   "cell_type": "code",
   "execution_count": 85,
   "metadata": {},
   "outputs": [
    {
     "data": {
      "text/plain": [
       "Index(['HomePlanet', 'CryoSleep', 'Destination', 'Age', 'VIP', 'RoomService',\n",
       "       'FoodCourt', 'ShoppingMall', 'Spa', 'VRDeck', 'Transported', 'Cabin_0',\n",
       "       'Cabin_2', 'G_RoomService', 'G_FoodCourt', 'G_ShoppingMall', 'G_Spa',\n",
       "       'G_VRDeck', 'G_CryoSleep_Transported', 'G_VIP_Transported', 'G_Total',\n",
       "       'HD_RoomService', 'HD_FoodCourt', 'HD_ShoppingMall', 'HD_Spa',\n",
       "       'HD_VRDeck', 'HD_CryoSleep', 'HD_VIP', 'C_RoomService', 'C_FoodCourt',\n",
       "       'C_ShoppingMall', 'C_Spa', 'C_VRDeck', 'C_CryoSleep', 'C_VIP'],\n",
       "      dtype='object')"
      ]
     },
     "execution_count": 85,
     "metadata": {},
     "output_type": "execute_result"
    }
   ],
   "source": [
    "train.columns"
   ]
  },
  {
   "cell_type": "code",
   "execution_count": 86,
   "metadata": {},
   "outputs": [
    {
     "data": {
      "text/html": [
       "<div>\n",
       "<style scoped>\n",
       "    .dataframe tbody tr th:only-of-type {\n",
       "        vertical-align: middle;\n",
       "    }\n",
       "\n",
       "    .dataframe tbody tr th {\n",
       "        vertical-align: top;\n",
       "    }\n",
       "\n",
       "    .dataframe thead th {\n",
       "        text-align: right;\n",
       "    }\n",
       "</style>\n",
       "<table border=\"1\" class=\"dataframe\">\n",
       "  <thead>\n",
       "    <tr style=\"text-align: right;\">\n",
       "      <th></th>\n",
       "      <th>Transported</th>\n",
       "    </tr>\n",
       "    <tr>\n",
       "      <th>Age_Class</th>\n",
       "      <th></th>\n",
       "    </tr>\n",
       "  </thead>\n",
       "  <tbody>\n",
       "    <tr>\n",
       "      <th>0.0</th>\n",
       "      <td>0.699752</td>\n",
       "    </tr>\n",
       "    <tr>\n",
       "      <th>1.0</th>\n",
       "      <td>0.488645</td>\n",
       "    </tr>\n",
       "    <tr>\n",
       "      <th>2.0</th>\n",
       "      <td>0.481518</td>\n",
       "    </tr>\n",
       "    <tr>\n",
       "      <th>3.0</th>\n",
       "      <td>0.472727</td>\n",
       "    </tr>\n",
       "  </tbody>\n",
       "</table>\n",
       "</div>"
      ],
      "text/plain": [
       "           Transported\n",
       "Age_Class             \n",
       "0.0           0.699752\n",
       "1.0           0.488645\n",
       "2.0           0.481518\n",
       "3.0           0.472727"
      ]
     },
     "execution_count": 86,
     "metadata": {},
     "output_type": "execute_result"
    }
   ],
   "source": [
    "train['Age_Class'] = train['Age']\n",
    "train.loc[train['Age_Class'] <=12,'Age_Class'] = 0\n",
    "train.loc[(train['Age_Class'] >=13) & (train['Age_Class'] <=23),'Age_Class'] = 1\n",
    "train.loc[(train['Age_Class'] >=24) & (train['Age_Class'] <=60),'Age_Class'] = 2\n",
    "train.loc[(train['Age_Class'] >=61),'Age_Class'] = 3\n",
    "train[['Age_Class','Transported']].groupby('Age_Class').mean()"
   ]
  },
  {
   "cell_type": "code",
   "execution_count": 87,
   "metadata": {},
   "outputs": [],
   "source": [
    "test['Age_Class'] = test['Age']\n",
    "test.loc[test['Age_Class'] <=12,'Age_Class'] = 0\n",
    "test.loc[(test['Age_Class'] >=13) & (test['Age_Class'] <=23),'Age_Class'] = 1\n",
    "test.loc[(test['Age_Class'] >=24) & (test['Age_Class'] <=60),'Age_Class'] = 2\n",
    "test.loc[(test['Age_Class'] >=61),'Age_Class'] = 3"
   ]
  },
  {
   "cell_type": "code",
   "execution_count": 88,
   "metadata": {},
   "outputs": [
    {
     "data": {
      "text/html": [
       "<div>\n",
       "<style scoped>\n",
       "    .dataframe tbody tr th:only-of-type {\n",
       "        vertical-align: middle;\n",
       "    }\n",
       "\n",
       "    .dataframe tbody tr th {\n",
       "        vertical-align: top;\n",
       "    }\n",
       "\n",
       "    .dataframe thead th {\n",
       "        text-align: right;\n",
       "    }\n",
       "</style>\n",
       "<table border=\"1\" class=\"dataframe\">\n",
       "  <thead>\n",
       "    <tr style=\"text-align: right;\">\n",
       "      <th></th>\n",
       "      <th>Transported</th>\n",
       "    </tr>\n",
       "    <tr>\n",
       "      <th>HomePlanet</th>\n",
       "      <th></th>\n",
       "    </tr>\n",
       "  </thead>\n",
       "  <tbody>\n",
       "    <tr>\n",
       "      <th>Earth</th>\n",
       "      <td>0.425886</td>\n",
       "    </tr>\n",
       "    <tr>\n",
       "      <th>Europa</th>\n",
       "      <td>0.659325</td>\n",
       "    </tr>\n",
       "    <tr>\n",
       "      <th>Mars</th>\n",
       "      <td>0.517866</td>\n",
       "    </tr>\n",
       "  </tbody>\n",
       "</table>\n",
       "</div>"
      ],
      "text/plain": [
       "            Transported\n",
       "HomePlanet             \n",
       "Earth          0.425886\n",
       "Europa         0.659325\n",
       "Mars           0.517866"
      ]
     },
     "execution_count": 88,
     "metadata": {},
     "output_type": "execute_result"
    }
   ],
   "source": [
    "train[['HomePlanet','Transported']].groupby('HomePlanet').mean()"
   ]
  },
  {
   "cell_type": "code",
   "execution_count": 89,
   "metadata": {},
   "outputs": [],
   "source": [
    "train.loc[train['HomePlanet'] == 'Earth','HomePlanet'] = 0\n",
    "train.loc[train['HomePlanet'] == 'Mars','HomePlanet'] = 1\n",
    "train.loc[train['HomePlanet'] == 'Europa','HomePlanet'] = 2\n",
    "train['HomePlanet'] = train['HomePlanet'].astype(int)"
   ]
  },
  {
   "cell_type": "code",
   "execution_count": 90,
   "metadata": {},
   "outputs": [],
   "source": [
    "test.loc[test['HomePlanet'] == 'Earth','HomePlanet'] = 0\n",
    "test.loc[test['HomePlanet'] == 'Mars','HomePlanet'] = 1\n",
    "test.loc[test['HomePlanet'] == 'Europa','HomePlanet'] = 2\n",
    "test['HomePlanet'] = test['HomePlanet'].astype(int)"
   ]
  },
  {
   "cell_type": "code",
   "execution_count": 91,
   "metadata": {},
   "outputs": [
    {
     "data": {
      "text/html": [
       "<div>\n",
       "<style scoped>\n",
       "    .dataframe tbody tr th:only-of-type {\n",
       "        vertical-align: middle;\n",
       "    }\n",
       "\n",
       "    .dataframe tbody tr th {\n",
       "        vertical-align: top;\n",
       "    }\n",
       "\n",
       "    .dataframe thead th {\n",
       "        text-align: right;\n",
       "    }\n",
       "</style>\n",
       "<table border=\"1\" class=\"dataframe\">\n",
       "  <thead>\n",
       "    <tr style=\"text-align: right;\">\n",
       "      <th></th>\n",
       "      <th>Transported</th>\n",
       "    </tr>\n",
       "    <tr>\n",
       "      <th>Destination</th>\n",
       "      <th></th>\n",
       "    </tr>\n",
       "  </thead>\n",
       "  <tbody>\n",
       "    <tr>\n",
       "      <th>55 Cancri e</th>\n",
       "      <td>0.614883</td>\n",
       "    </tr>\n",
       "    <tr>\n",
       "      <th>PSO J318.5-22</th>\n",
       "      <td>0.495536</td>\n",
       "    </tr>\n",
       "    <tr>\n",
       "      <th>TRAPPIST-1e</th>\n",
       "      <td>0.470450</td>\n",
       "    </tr>\n",
       "  </tbody>\n",
       "</table>\n",
       "</div>"
      ],
      "text/plain": [
       "               Transported\n",
       "Destination               \n",
       "55 Cancri e       0.614883\n",
       "PSO J318.5-22     0.495536\n",
       "TRAPPIST-1e       0.470450"
      ]
     },
     "execution_count": 91,
     "metadata": {},
     "output_type": "execute_result"
    }
   ],
   "source": [
    "train[['Destination','Transported']].groupby('Destination').mean()"
   ]
  },
  {
   "cell_type": "code",
   "execution_count": 92,
   "metadata": {},
   "outputs": [],
   "source": [
    "train.loc[train['Destination'] == 'TRAPPIST-1e','Destination'] = 0\n",
    "train.loc[train['Destination'] == 'PSO J318.5-22','Destination'] = 1\n",
    "train.loc[train['Destination'] == '55 Cancri e','Destination'] = 2\n",
    "train['Destination'] = train['Destination'].astype(int)"
   ]
  },
  {
   "cell_type": "code",
   "execution_count": 93,
   "metadata": {},
   "outputs": [],
   "source": [
    "test.loc[test['Destination'] == 'TRAPPIST-1e','Destination'] = 0\n",
    "test.loc[test['Destination'] == 'PSO J318.5-22','Destination'] = 1\n",
    "test.loc[test['Destination'] == '55 Cancri e','Destination'] = 2\n",
    "test['Destination'] = test['Destination'].astype(int)"
   ]
  },
  {
   "cell_type": "code",
   "execution_count": 94,
   "metadata": {},
   "outputs": [
    {
     "data": {
      "text/html": [
       "<div>\n",
       "<style scoped>\n",
       "    .dataframe tbody tr th:only-of-type {\n",
       "        vertical-align: middle;\n",
       "    }\n",
       "\n",
       "    .dataframe tbody tr th {\n",
       "        vertical-align: top;\n",
       "    }\n",
       "\n",
       "    .dataframe thead th {\n",
       "        text-align: right;\n",
       "    }\n",
       "</style>\n",
       "<table border=\"1\" class=\"dataframe\">\n",
       "  <thead>\n",
       "    <tr style=\"text-align: right;\">\n",
       "      <th></th>\n",
       "      <th>Transported</th>\n",
       "    </tr>\n",
       "    <tr>\n",
       "      <th>Cabin_0</th>\n",
       "      <th></th>\n",
       "    </tr>\n",
       "  </thead>\n",
       "  <tbody>\n",
       "    <tr>\n",
       "      <th>A</th>\n",
       "      <td>0.496296</td>\n",
       "    </tr>\n",
       "    <tr>\n",
       "      <th>B</th>\n",
       "      <td>0.732342</td>\n",
       "    </tr>\n",
       "    <tr>\n",
       "      <th>C</th>\n",
       "      <td>0.681102</td>\n",
       "    </tr>\n",
       "    <tr>\n",
       "      <th>D</th>\n",
       "      <td>0.437882</td>\n",
       "    </tr>\n",
       "    <tr>\n",
       "      <th>E</th>\n",
       "      <td>0.357143</td>\n",
       "    </tr>\n",
       "    <tr>\n",
       "      <th>F</th>\n",
       "      <td>0.440267</td>\n",
       "    </tr>\n",
       "    <tr>\n",
       "      <th>G</th>\n",
       "      <td>0.514144</td>\n",
       "    </tr>\n",
       "    <tr>\n",
       "      <th>T</th>\n",
       "      <td>0.200000</td>\n",
       "    </tr>\n",
       "  </tbody>\n",
       "</table>\n",
       "</div>"
      ],
      "text/plain": [
       "         Transported\n",
       "Cabin_0             \n",
       "A           0.496296\n",
       "B           0.732342\n",
       "C           0.681102\n",
       "D           0.437882\n",
       "E           0.357143\n",
       "F           0.440267\n",
       "G           0.514144\n",
       "T           0.200000"
      ]
     },
     "execution_count": 94,
     "metadata": {},
     "output_type": "execute_result"
    }
   ],
   "source": [
    "train[['Cabin_0','Transported']].groupby('Cabin_0').mean()"
   ]
  },
  {
   "cell_type": "code",
   "execution_count": 95,
   "metadata": {},
   "outputs": [],
   "source": [
    "train.loc[train['Cabin_0'] == 'T','Cabin_0'] = 0\n",
    "train.loc[train['Cabin_0'] == 'E','Cabin_0'] = 1\n",
    "train.loc[train['Cabin_0'] == 'D','Cabin_0'] = 2\n",
    "train.loc[train['Cabin_0'] == 'F','Cabin_0'] = 3\n",
    "train.loc[train['Cabin_0'] == 'A','Cabin_0'] = 4\n",
    "train.loc[train['Cabin_0'] == 'G','Cabin_0'] = 5\n",
    "train.loc[train['Cabin_0'] == 'C','Cabin_0'] = 6\n",
    "train.loc[train['Cabin_0'] == 'B','Cabin_0'] = 7\n",
    "train['Cabin_0'] = train['Cabin_0'].astype(int)"
   ]
  },
  {
   "cell_type": "code",
   "execution_count": 96,
   "metadata": {},
   "outputs": [],
   "source": [
    "test.loc[test['Cabin_0'] == 'T','Cabin_0'] = 0\n",
    "test.loc[test['Cabin_0'] == 'E','Cabin_0'] = 1\n",
    "test.loc[test['Cabin_0'] == 'D','Cabin_0'] = 2\n",
    "test.loc[test['Cabin_0'] == 'F','Cabin_0'] = 3\n",
    "test.loc[test['Cabin_0'] == 'A','Cabin_0'] = 4\n",
    "test.loc[test['Cabin_0'] == 'G','Cabin_0'] = 5\n",
    "test.loc[test['Cabin_0'] == 'C','Cabin_0'] = 6\n",
    "test.loc[test['Cabin_0'] == 'B','Cabin_0'] = 7\n",
    "test['Cabin_0'] = test['Cabin_0'].astype(int)"
   ]
  },
  {
   "cell_type": "code",
   "execution_count": 97,
   "metadata": {},
   "outputs": [
    {
     "data": {
      "text/html": [
       "<div>\n",
       "<style scoped>\n",
       "    .dataframe tbody tr th:only-of-type {\n",
       "        vertical-align: middle;\n",
       "    }\n",
       "\n",
       "    .dataframe tbody tr th {\n",
       "        vertical-align: top;\n",
       "    }\n",
       "\n",
       "    .dataframe thead th {\n",
       "        text-align: right;\n",
       "    }\n",
       "</style>\n",
       "<table border=\"1\" class=\"dataframe\">\n",
       "  <thead>\n",
       "    <tr style=\"text-align: right;\">\n",
       "      <th></th>\n",
       "      <th>Transported</th>\n",
       "    </tr>\n",
       "    <tr>\n",
       "      <th>Cabin_2</th>\n",
       "      <th></th>\n",
       "    </tr>\n",
       "  </thead>\n",
       "  <tbody>\n",
       "    <tr>\n",
       "      <th>P</th>\n",
       "      <td>0.449674</td>\n",
       "    </tr>\n",
       "    <tr>\n",
       "      <th>S</th>\n",
       "      <td>0.556237</td>\n",
       "    </tr>\n",
       "  </tbody>\n",
       "</table>\n",
       "</div>"
      ],
      "text/plain": [
       "         Transported\n",
       "Cabin_2             \n",
       "P           0.449674\n",
       "S           0.556237"
      ]
     },
     "execution_count": 97,
     "metadata": {},
     "output_type": "execute_result"
    }
   ],
   "source": [
    "train[['Cabin_2','Transported']].groupby('Cabin_2').mean()"
   ]
  },
  {
   "cell_type": "code",
   "execution_count": 98,
   "metadata": {},
   "outputs": [],
   "source": [
    "train.loc[train['Cabin_2'] == 'P','Cabin_2'] = 0\n",
    "train.loc[train['Cabin_2'] == 'S','Cabin_2'] = 1\n",
    "train['Cabin_2'] = train['Cabin_2'].astype(int)"
   ]
  },
  {
   "cell_type": "code",
   "execution_count": 99,
   "metadata": {},
   "outputs": [],
   "source": [
    "test.loc[test['Cabin_2'] == 'P','Cabin_2'] = 0\n",
    "test.loc[test['Cabin_2'] == 'S','Cabin_2'] = 1\n",
    "test['Cabin_2'] = test['Cabin_2'].astype(int)"
   ]
  },
  {
   "cell_type": "code",
   "execution_count": 100,
   "metadata": {},
   "outputs": [
    {
     "data": {
      "text/html": [
       "<div>\n",
       "<style scoped>\n",
       "    .dataframe tbody tr th:only-of-type {\n",
       "        vertical-align: middle;\n",
       "    }\n",
       "\n",
       "    .dataframe tbody tr th {\n",
       "        vertical-align: top;\n",
       "    }\n",
       "\n",
       "    .dataframe thead th {\n",
       "        text-align: right;\n",
       "    }\n",
       "</style>\n",
       "<table border=\"1\" class=\"dataframe\">\n",
       "  <thead>\n",
       "    <tr style=\"text-align: right;\">\n",
       "      <th></th>\n",
       "      <th>Transported</th>\n",
       "    </tr>\n",
       "    <tr>\n",
       "      <th>G_CryoSleep_Transported</th>\n",
       "      <th></th>\n",
       "    </tr>\n",
       "  </thead>\n",
       "  <tbody>\n",
       "    <tr>\n",
       "      <th>False</th>\n",
       "      <td>0.141129</td>\n",
       "    </tr>\n",
       "    <tr>\n",
       "      <th>True</th>\n",
       "      <td>0.537552</td>\n",
       "    </tr>\n",
       "  </tbody>\n",
       "</table>\n",
       "</div>"
      ],
      "text/plain": [
       "                         Transported\n",
       "G_CryoSleep_Transported             \n",
       "False                       0.141129\n",
       "True                        0.537552"
      ]
     },
     "execution_count": 100,
     "metadata": {},
     "output_type": "execute_result"
    }
   ],
   "source": [
    "train[['G_CryoSleep_Transported','Transported']].groupby('G_CryoSleep_Transported').mean()"
   ]
  },
  {
   "cell_type": "code",
   "execution_count": 101,
   "metadata": {},
   "outputs": [],
   "source": [
    "train['G_CryoSleep_Transported'] = train['G_CryoSleep_Transported'].astype(int)"
   ]
  },
  {
   "cell_type": "code",
   "execution_count": 102,
   "metadata": {},
   "outputs": [
    {
     "data": {
      "text/html": [
       "<div>\n",
       "<style scoped>\n",
       "    .dataframe tbody tr th:only-of-type {\n",
       "        vertical-align: middle;\n",
       "    }\n",
       "\n",
       "    .dataframe tbody tr th {\n",
       "        vertical-align: top;\n",
       "    }\n",
       "\n",
       "    .dataframe thead th {\n",
       "        text-align: right;\n",
       "    }\n",
       "</style>\n",
       "<table border=\"1\" class=\"dataframe\">\n",
       "  <thead>\n",
       "    <tr style=\"text-align: right;\">\n",
       "      <th></th>\n",
       "      <th>Transported</th>\n",
       "    </tr>\n",
       "    <tr>\n",
       "      <th>G_VIP_Transported</th>\n",
       "      <th></th>\n",
       "    </tr>\n",
       "  </thead>\n",
       "  <tbody>\n",
       "    <tr>\n",
       "      <th>False</th>\n",
       "      <td>0.019417</td>\n",
       "    </tr>\n",
       "    <tr>\n",
       "      <th>True</th>\n",
       "      <td>0.509430</td>\n",
       "    </tr>\n",
       "  </tbody>\n",
       "</table>\n",
       "</div>"
      ],
      "text/plain": [
       "                   Transported\n",
       "G_VIP_Transported             \n",
       "False                 0.019417\n",
       "True                  0.509430"
      ]
     },
     "execution_count": 102,
     "metadata": {},
     "output_type": "execute_result"
    }
   ],
   "source": [
    "train[['G_VIP_Transported','Transported']].groupby('G_VIP_Transported').mean()"
   ]
  },
  {
   "cell_type": "code",
   "execution_count": 103,
   "metadata": {},
   "outputs": [],
   "source": [
    "train['G_VIP_Transported'] = train['G_VIP_Transported'].astype(int)"
   ]
  },
  {
   "cell_type": "code",
   "execution_count": 104,
   "metadata": {},
   "outputs": [],
   "source": [
    "train['Transported'] = train['Transported'].astype(int)"
   ]
  },
  {
   "cell_type": "markdown",
   "metadata": {},
   "source": [
    "### Feature Selection"
   ]
  },
  {
   "cell_type": "markdown",
   "metadata": {},
   "source": [
    "#### Manuel Selection"
   ]
  },
  {
   "cell_type": "code",
   "execution_count": 105,
   "metadata": {},
   "outputs": [],
   "source": [
    "train = train.drop(['G_CryoSleep_Transported','G_VIP_Transported'],axis=1)"
   ]
  },
  {
   "cell_type": "code",
   "execution_count": 106,
   "metadata": {},
   "outputs": [
    {
     "name": "stdout",
     "output_type": "stream",
     "text": [
      "               sum_sq      df          F        PR(>F)\n",
      "x           24.675025     1.0  99.815941  2.235256e-23\n",
      "Residual  2148.460832  8691.0        NaN           NaN\n"
     ]
    }
   ],
   "source": [
    "# VIP\n",
    "import statsmodels.api as sm\n",
    "from statsmodels.formula.api import ols\n",
    "\n",
    "\n",
    "df = pd.DataFrame({'y':train['Transported'], 'x':train['Cabin_2']})\n",
    "mod = ols('y~x', data=df).fit()\n",
    "\n",
    "aov_table = sm.stats.anova_lm(mod, typ=2)\n",
    "\n",
    "print(aov_table)"
   ]
  },
  {
   "cell_type": "code",
   "execution_count": 107,
   "metadata": {},
   "outputs": [
    {
     "name": "stdout",
     "output_type": "stream",
     "text": [
      "0.16893986426851076 1.139366360252992e-56\n"
     ]
    }
   ],
   "source": [
    "# ShoppinngMall and G, RoomService,FoodCourt,G_Spa,G_vrdeck\n",
    "from scipy.stats import pearsonr\n",
    "\n",
    "x = np.array(train['HD_VRDeck'])\n",
    "y = np.array(train['Transported'])\n",
    "\n",
    "nas = np.logical_or(np.isnan(x), np.isnan(y))\n",
    "coef, p = pearsonr(x[~nas], y[~nas])\n",
    "\n",
    "print(coef, p)"
   ]
  },
  {
   "cell_type": "code",
   "execution_count": 108,
   "metadata": {},
   "outputs": [],
   "source": [
    "modified_train = train.drop(['HD_RoomService','HD_ShoppingMall','HD_FoodCourt','HD_VIP','Age','HD_Spa','HD_VRDeck','C_VIP'],axis=1)\n",
    "modified_train = modified_train.drop(['C_CryoSleep','C_VRDeck','C_Spa','C_FoodCourt','C_RoomService','HD_CryoSleep','C_ShoppingMall'],axis=1)"
   ]
  },
  {
   "cell_type": "code",
   "execution_count": 109,
   "metadata": {},
   "outputs": [],
   "source": [
    "modified_test = test.drop(['HD_RoomService','HD_ShoppingMall','HD_FoodCourt','HD_VIP','Age','HD_Spa','HD_VRDeck','C_VIP'],axis=1)\n",
    "modified_test = modified_test.drop(['C_CryoSleep','C_VRDeck','C_Spa','C_FoodCourt','C_RoomService','HD_CryoSleep','C_ShoppingMall'],axis=1)"
   ]
  },
  {
   "cell_type": "markdown",
   "metadata": {},
   "source": [
    "#### Feature Selection Function"
   ]
  },
  {
   "cell_type": "code",
   "execution_count": 110,
   "metadata": {},
   "outputs": [],
   "source": [
    "# ANOVA feature selection for numeric input and categorical output\n",
    "from sklearn.datasets import make_classification\n",
    "from sklearn.feature_selection import SelectKBest\n",
    "from sklearn.feature_selection import f_classif,chi2\n",
    "# generate dataset\n",
    "y = train['Transported']\n",
    "X_cat = train[['HomePlanet', 'CryoSleep', 'Destination','VIP','Cabin_0','Cabin_2','Age_Class']]\n",
    "X_test_cat = test[['HomePlanet', 'CryoSleep', 'Destination','VIP','Cabin_0','Cabin_2','Age_Class']]\n",
    "X_num = train[['Age','RoomService','FoodCourt', 'ShoppingMall', 'Spa', 'VRDeck','G_RoomService', 'G_FoodCourt', 'G_ShoppingMall', 'G_Spa',\n",
    "               'G_VRDeck', 'G_Total', 'HD_RoomService', 'HD_FoodCourt','HD_ShoppingMall', 'HD_Spa', 'HD_VRDeck', 'HD_CryoSleep', 'HD_VIP',\n",
    "               'C_RoomService', 'C_FoodCourt', 'C_ShoppingMall', 'C_Spa', 'C_VRDeck','C_CryoSleep', 'C_VIP']]\n",
    "X_test_num = test[['Age','RoomService','FoodCourt', 'ShoppingMall', 'Spa', 'VRDeck','G_RoomService', 'G_FoodCourt', 'G_ShoppingMall', 'G_Spa',\n",
    "               'G_VRDeck', 'G_Total', 'HD_RoomService', 'HD_FoodCourt','HD_ShoppingMall', 'HD_Spa', 'HD_VRDeck', 'HD_CryoSleep', 'HD_VIP',\n",
    "               'C_RoomService', 'C_FoodCourt', 'C_ShoppingMall', 'C_Spa', 'C_VRDeck','C_CryoSleep', 'C_VIP']]\n",
    "# define feature selection\n",
    "fs_num = SelectKBest(score_func=f_classif, k=4) \n",
    "fs_cat = SelectKBest(score_func=chi2, k=5)\n",
    "# apply feature selection\n",
    "fs_cat.fit(X_cat, y)\n",
    "fs_num.fit(X_num, y)\n",
    "X_cat_selected = fs_cat.transform(X_cat)\n",
    "X_test_cat_selected = fs_cat.transform(X_test_cat)\n",
    "X_num_selected = fs_num.transform(X_num)\n",
    "X_test_num_selected = fs_num.transform(X_test_num)"
   ]
  },
  {
   "cell_type": "code",
   "execution_count": 111,
   "metadata": {},
   "outputs": [],
   "source": [
    "X_selected = pd.concat([pd.DataFrame(X_cat_selected),pd.DataFrame(X_num_selected)],axis=1,ignore_index=True)\n",
    "test_selected = pd.concat([pd.DataFrame(X_test_cat_selected),pd.DataFrame(X_test_num_selected)],axis=1,ignore_index=True)"
   ]
  },
  {
   "cell_type": "markdown",
   "metadata": {},
   "source": [
    "#### PCA"
   ]
  },
  {
   "cell_type": "code",
   "execution_count": 112,
   "metadata": {},
   "outputs": [],
   "source": [
    "from sklearn.preprocessing import StandardScaler  # to standardize the features\n",
    "from sklearn.decomposition import PCA  # to apply PCA\n",
    "\n",
    "scalar = StandardScaler()\n",
    "scaled_data = pd.DataFrame(scalar.fit_transform(pd.concat([train.drop(['Transported'],axis=1),test],ignore_index=True))) #scaling the data"
   ]
  },
  {
   "cell_type": "code",
   "execution_count": 113,
   "metadata": {},
   "outputs": [
    {
     "data": {
      "text/plain": [
       "<Axes: >"
      ]
     },
     "execution_count": 113,
     "metadata": {},
     "output_type": "execute_result"
    },
    {
     "data": {
      "image/png": "[encoded data removed]",
      "text/plain": [
       "<Figure size 432x288 with 2 Axes>"
      ]
     },
     "metadata": {
      "needs_background": "light"
     },
     "output_type": "display_data"
    }
   ],
   "source": [
    "import seaborn as sns\n",
    "sns.heatmap(scaled_data.corr())"
   ]
  },
  {
   "cell_type": "code",
   "execution_count": 114,
   "metadata": {},
   "outputs": [],
   "source": [
    "pca = PCA(n_components = 8)\n",
    "pca.fit(scaled_data)\n",
    "data_pca = pca.transform(scaled_data)\n",
    "data_pca = pd.DataFrame(data_pca,columns=['PC1','PC2','PC3','PC4','PC5','PC6','PC7','PC8'])"
   ]
  },
  {
   "cell_type": "code",
   "execution_count": 115,
   "metadata": {},
   "outputs": [],
   "source": [
    "data_test_pca = data_pca[8693:]\n",
    "data_pca = data_pca[:8693]"
   ]
  },
  {
   "cell_type": "markdown",
   "metadata": {},
   "source": [
    "## Modelling"
   ]
  },
  {
   "cell_type": "markdown",
   "metadata": {},
   "source": [
    "### CatBoost"
   ]
  },
  {
   "cell_type": "code",
   "execution_count": null,
   "metadata": {},
   "outputs": [],
   "source": [
    "y = train['Transported']\n",
    "X = X_selected"
   ]
  },
  {
   "cell_type": "code",
   "execution_count": null,
   "metadata": {},
   "outputs": [],
   "source": [
    "SEED = 42\n",
    "\n",
    "X_train, X_test, y_train, y_test = train_test_split(X, y, test_size = 0.20, random_state = SEED)"
   ]
  },
  {
   "cell_type": "code",
   "execution_count": null,
   "metadata": {},
   "outputs": [],
   "source": [
    "from tqdm import tqdm\n",
    "from catboost import CatBoostClassifier\n",
    "  \n",
    "catboost = CatBoostClassifier()"
   ]
  },
  {
   "cell_type": "code",
   "execution_count": null,
   "metadata": {},
   "outputs": [],
   "source": [
    "catboost.fit(X_train,y_train)\n",
    "pred_test = catboost.predict(X_test)\n",
    "\n",
    "cm = confusion_matrix(y_test,pred_test)\n",
    "sns.heatmap(cm, annot=True, fmt='d').set_title('Confusion matrix of CB')\n",
    "print(classification_report(y_test, pred_test))"
   ]
  },
  {
   "cell_type": "code",
   "execution_count": null,
   "metadata": {},
   "outputs": [],
   "source": [
    "from sklearn.model_selection import GridSearchCV\n",
    "\n",
    "# defining parameter range\n",
    "param_grid = {'iterations': [10000], \n",
    "              'learning_rate': [0.01, 0.02,0.03,0.05],\n",
    "              'depth': [3,4,5,6]} \n",
    "  \n",
    "grid = GridSearchCV(CatBoostClassifier(), param_grid, refit = True, verbose = 3)\n",
    "  \n",
    "# fitting the model for grid search\n",
    "grid.fit(X_train, y_train)"
   ]
  },
  {
   "cell_type": "code",
   "execution_count": null,
   "metadata": {},
   "outputs": [
    {
     "name": "stdout",
     "output_type": "stream",
     "text": [
      "{'depth': 6, 'iterations': 10000, 'learning_rate': 0.01}\n",
      "<catboost.core.CatBoostClassifier object at 0x0000024CFED5D0A0>\n"
     ]
    }
   ],
   "source": [
    "# print best parameter after tuning\n",
    "print(grid.best_params_)\n",
    "  \n",
    "# print how our model looks after hyper-parameter tuning\n",
    "print(grid.best_estimator_)"
   ]
  },
  {
   "cell_type": "code",
   "execution_count": null,
   "metadata": {},
   "outputs": [
    {
     "name": "stdout",
     "output_type": "stream",
     "text": [
      "              precision    recall  f1-score   support\n",
      "\n",
      "           0       0.80      0.79      0.79       861\n",
      "           1       0.80      0.80      0.80       878\n",
      "\n",
      "    accuracy                           0.80      1739\n",
      "   macro avg       0.80      0.80      0.80      1739\n",
      "weighted avg       0.80      0.80      0.80      1739\n",
      "\n"
     ]
    },
    {
     "data": {
      "image/png": "[encoded data removed]",
      "text/plain": [
       "<Figure size 432x288 with 2 Axes>"
      ]
     },
     "metadata": {
      "needs_background": "light"
     },
     "output_type": "display_data"
    }
   ],
   "source": [
    "import seaborn as sns\n",
    "\n",
    "grid_predictions = grid.predict(X_test)\n",
    "\n",
    "cm = confusion_matrix(y_test,grid_predictions)\n",
    "sns.heatmap(cm, annot=True, fmt='d').set_title('Confusion matrix of XGB')\n",
    "# print classification report\n",
    "print(classification_report(y_test, grid_predictions))"
   ]
  },
  {
   "cell_type": "code",
   "execution_count": null,
   "metadata": {},
   "outputs": [
    {
     "data": {
      "application/vnd.plotly.v1+json": {
       "config": {
        "plotlyServerURL": "https://plot.ly"
       },
       "data": [
        {
         "alignmentgroup": "True",
         "hovertemplate": "Importance=%{x}<br>Feature=%{y}<extra></extra>",
         "legendgroup": "",
         "marker": {
          "color": "#636efa",
          "pattern": {
           "shape": ""
          }
         },
         "name": "",
         "offsetgroup": "",
         "orientation": "h",
         "showlegend": false,
         "textposition": "auto",
         "type": "bar",
         "x": [
          5.555555555555555,
          null,
          null,
          null,
          null,
          null,
          null,
          null,
          null,
          null,
          null,
          null,
          null,
          null,
          null,
          null,
          null,
          null
         ],
         "xaxis": "x",
         "y": [
          "HomePlanet",
          "CryoSleep",
          "Destination",
          "Age",
          "VIP",
          "RoomService",
          "FoodCourt",
          "ShoppingMall",
          "Spa",
          "VRDeck",
          "Cabin_0",
          "Cabin_2",
          "G_RoomService",
          "G_FoodCourt",
          "G_ShoppingMall",
          "G_Spa",
          "G_VRDeck",
          "G_Total"
         ],
         "yaxis": "y"
        }
       ],
       "layout": {
        "barmode": "relative",
        "legend": {
         "tracegroupgap": 0
        },
        "margin": {
         "t": 60
        },
        "template": {
         "data": {
          "bar": [
           {
            "error_x": {
             "color": "#2a3f5f"
            },
            "error_y": {
             "color": "#2a3f5f"
            },
            "marker": {
             "line": {
              "color": "#E5ECF6",
              "width": 0.5
             },
             "pattern": {
              "fillmode": "overlay",
              "size": 10,
              "solidity": 0.2
             }
            },
            "type": "bar"
           }
          ],
          "barpolar": [
           {
            "marker": {
             "line": {
              "color": "#E5ECF6",
              "width": 0.5
             },
             "pattern": {
              "fillmode": "overlay",
              "size": 10,
              "solidity": 0.2
             }
            },
            "type": "barpolar"
           }
          ],
          "carpet": [
           {
            "aaxis": {
             "endlinecolor": "#2a3f5f",
             "gridcolor": "white",
             "linecolor": "white",
             "minorgridcolor": "white",
             "startlinecolor": "#2a3f5f"
            },
            "baxis": {
             "endlinecolor": "#2a3f5f",
             "gridcolor": "white",
             "linecolor": "white",
             "minorgridcolor": "white",
             "startlinecolor": "#2a3f5f"
            },
            "type": "carpet"
           }
          ],
          "choropleth": [
           {
            "colorbar": {
             "outlinewidth": 0,
             "ticks": ""
            },
            "type": "choropleth"
           }
          ],
          "contour": [
           {
            "colorbar": {
             "outlinewidth": 0,
             "ticks": ""
            },
            "colorscale": [
             [
              0,
              "#0d0887"
             ],
             [
              0.1111111111111111,
              "#46039f"
             ],
             [
              0.2222222222222222,
              "#7201a8"
             ],
             [
              0.3333333333333333,
              "#9c179e"
             ],
             [
              0.4444444444444444,
              "#bd3786"
             ],
             [
              0.5555555555555556,
              "#d8576b"
             ],
             [
              0.6666666666666666,
              "#ed7953"
             ],
             [
              0.7777777777777778,
              "#fb9f3a"
             ],
             [
              0.8888888888888888,
              "#fdca26"
             ],
             [
              1,
              "#f0f921"
             ]
            ],
            "type": "contour"
           }
          ],
          "contourcarpet": [
           {
            "colorbar": {
             "outlinewidth": 0,
             "ticks": ""
            },
            "type": "contourcarpet"
           }
          ],
          "heatmap": [
           {
            "colorbar": {
             "outlinewidth": 0,
             "ticks": ""
            },
            "colorscale": [
             [
              0,
              "#0d0887"
             ],
             [
              0.1111111111111111,
              "#46039f"
             ],
             [
              0.2222222222222222,
              "#7201a8"
             ],
             [
              0.3333333333333333,
              "#9c179e"
             ],
             [
              0.4444444444444444,
              "#bd3786"
             ],
             [
              0.5555555555555556,
              "#d8576b"
             ],
             [
              0.6666666666666666,
              "#ed7953"
             ],
             [
              0.7777777777777778,
              "#fb9f3a"
             ],
             [
              0.8888888888888888,
              "#fdca26"
             ],
             [
              1,
              "#f0f921"
             ]
            ],
            "type": "heatmap"
           }
          ],
          "heatmapgl": [
           {
            "colorbar": {
             "outlinewidth": 0,
             "ticks": ""
            },
            "colorscale": [
             [
              0,
              "#0d0887"
             ],
             [
              0.1111111111111111,
              "#46039f"
             ],
             [
              0.2222222222222222,
              "#7201a8"
             ],
             [
              0.3333333333333333,
              "#9c179e"
             ],
             [
              0.4444444444444444,
              "#bd3786"
             ],
             [
              0.5555555555555556,
              "#d8576b"
             ],
             [
              0.6666666666666666,
              "#ed7953"
             ],
             [
              0.7777777777777778,
              "#fb9f3a"
             ],
             [
              0.8888888888888888,
              "#fdca26"
             ],
             [
              1,
              "#f0f921"
             ]
            ],
            "type": "heatmapgl"
           }
          ],
          "histogram": [
           {
            "marker": {
             "pattern": {
              "fillmode": "overlay",
              "size": 10,
              "solidity": 0.2
             }
            },
            "type": "histogram"
           }
          ],
          "histogram2d": [
           {
            "colorbar": {
             "outlinewidth": 0,
             "ticks": ""
            },
            "colorscale": [
             [
              0,
              "#0d0887"
             ],
             [
              0.1111111111111111,
              "#46039f"
             ],
             [
              0.2222222222222222,
              "#7201a8"
             ],
             [
              0.3333333333333333,
              "#9c179e"
             ],
             [
              0.4444444444444444,
              "#bd3786"
             ],
             [
              0.5555555555555556,
              "#d8576b"
             ],
             [
              0.6666666666666666,
              "#ed7953"
             ],
             [
              0.7777777777777778,
              "#fb9f3a"
             ],
             [
              0.8888888888888888,
              "#fdca26"
             ],
             [
              1,
              "#f0f921"
             ]
            ],
            "type": "histogram2d"
           }
          ],
          "histogram2dcontour": [
           {
            "colorbar": {
             "outlinewidth": 0,
             "ticks": ""
            },
            "colorscale": [
             [
              0,
              "#0d0887"
             ],
             [
              0.1111111111111111,
              "#46039f"
             ],
             [
              0.2222222222222222,
              "#7201a8"
             ],
             [
              0.3333333333333333,
              "#9c179e"
             ],
             [
              0.4444444444444444,
              "#bd3786"
             ],
             [
              0.5555555555555556,
              "#d8576b"
             ],
             [
              0.6666666666666666,
              "#ed7953"
             ],
             [
              0.7777777777777778,
              "#fb9f3a"
             ],
             [
              0.8888888888888888,
              "#fdca26"
             ],
             [
              1,
              "#f0f921"
             ]
            ],
            "type": "histogram2dcontour"
           }
          ],
          "mesh3d": [
           {
            "colorbar": {
             "outlinewidth": 0,
             "ticks": ""
            },
            "type": "mesh3d"
           }
          ],
          "parcoords": [
           {
            "line": {
             "colorbar": {
              "outlinewidth": 0,
              "ticks": ""
             }
            },
            "type": "parcoords"
           }
          ],
          "pie": [
           {
            "automargin": true,
            "type": "pie"
           }
          ],
          "scatter": [
           {
            "fillpattern": {
             "fillmode": "overlay",
             "size": 10,
             "solidity": 0.2
            },
            "type": "scatter"
           }
          ],
          "scatter3d": [
           {
            "line": {
             "colorbar": {
              "outlinewidth": 0,
              "ticks": ""
             }
            },
            "marker": {
             "colorbar": {
              "outlinewidth": 0,
              "ticks": ""
             }
            },
            "type": "scatter3d"
           }
          ],
          "scattercarpet": [
           {
            "marker": {
             "colorbar": {
              "outlinewidth": 0,
              "ticks": ""
             }
            },
            "type": "scattercarpet"
           }
          ],
          "scattergeo": [
           {
            "marker": {
             "colorbar": {
              "outlinewidth": 0,
              "ticks": ""
             }
            },
            "type": "scattergeo"
           }
          ],
          "scattergl": [
           {
            "marker": {
             "colorbar": {
              "outlinewidth": 0,
              "ticks": ""
             }
            },
            "type": "scattergl"
           }
          ],
          "scattermapbox": [
           {
            "marker": {
             "colorbar": {
              "outlinewidth": 0,
              "ticks": ""
             }
            },
            "type": "scattermapbox"
           }
          ],
          "scatterpolar": [
           {
            "marker": {
             "colorbar": {
              "outlinewidth": 0,
              "ticks": ""
             }
            },
            "type": "scatterpolar"
           }
          ],
          "scatterpolargl": [
           {
            "marker": {
             "colorbar": {
              "outlinewidth": 0,
              "ticks": ""
             }
            },
            "type": "scatterpolargl"
           }
          ],
          "scatterternary": [
           {
            "marker": {
             "colorbar": {
              "outlinewidth": 0,
              "ticks": ""
             }
            },
            "type": "scatterternary"
           }
          ],
          "surface": [
           {
            "colorbar": {
             "outlinewidth": 0,
             "ticks": ""
            },
            "colorscale": [
             [
              0,
              "#0d0887"
             ],
             [
              0.1111111111111111,
              "#46039f"
             ],
             [
              0.2222222222222222,
              "#7201a8"
             ],
             [
              0.3333333333333333,
              "#9c179e"
             ],
             [
              0.4444444444444444,
              "#bd3786"
             ],
             [
              0.5555555555555556,
              "#d8576b"
             ],
             [
              0.6666666666666666,
              "#ed7953"
             ],
             [
              0.7777777777777778,
              "#fb9f3a"
             ],
             [
              0.8888888888888888,
              "#fdca26"
             ],
             [
              1,
              "#f0f921"
             ]
            ],
            "type": "surface"
           }
          ],
          "table": [
           {
            "cells": {
             "fill": {
              "color": "#EBF0F8"
             },
             "line": {
              "color": "white"
             }
            },
            "header": {
             "fill": {
              "color": "#C8D4E3"
             },
             "line": {
              "color": "white"
             }
            },
            "type": "table"
           }
          ]
         },
         "layout": {
          "annotationdefaults": {
           "arrowcolor": "#2a3f5f",
           "arrowhead": 0,
           "arrowwidth": 1
          },
          "autotypenumbers": "strict",
          "coloraxis": {
           "colorbar": {
            "outlinewidth": 0,
            "ticks": ""
           }
          },
          "colorscale": {
           "diverging": [
            [
             0,
             "#8e0152"
            ],
            [
             0.1,
             "#c51b7d"
            ],
            [
             0.2,
             "#de77ae"
            ],
            [
             0.3,
             "#f1b6da"
            ],
            [
             0.4,
             "#fde0ef"
            ],
            [
             0.5,
             "#f7f7f7"
            ],
            [
             0.6,
             "#e6f5d0"
            ],
            [
             0.7,
             "#b8e186"
            ],
            [
             0.8,
             "#7fbc41"
            ],
            [
             0.9,
             "#4d9221"
            ],
            [
             1,
             "#276419"
            ]
           ],
           "sequential": [
            [
             0,
             "#0d0887"
            ],
            [
             0.1111111111111111,
             "#46039f"
            ],
            [
             0.2222222222222222,
             "#7201a8"
            ],
            [
             0.3333333333333333,
             "#9c179e"
            ],
            [
             0.4444444444444444,
             "#bd3786"
            ],
            [
             0.5555555555555556,
             "#d8576b"
            ],
            [
             0.6666666666666666,
             "#ed7953"
            ],
            [
             0.7777777777777778,
             "#fb9f3a"
            ],
            [
             0.8888888888888888,
             "#fdca26"
            ],
            [
             1,
             "#f0f921"
            ]
           ],
           "sequentialminus": [
            [
             0,
             "#0d0887"
            ],
            [
             0.1111111111111111,
             "#46039f"
            ],
            [
             0.2222222222222222,
             "#7201a8"
            ],
            [
             0.3333333333333333,
             "#9c179e"
            ],
            [
             0.4444444444444444,
             "#bd3786"
            ],
            [
             0.5555555555555556,
             "#d8576b"
            ],
            [
             0.6666666666666666,
             "#ed7953"
            ],
            [
             0.7777777777777778,
             "#fb9f3a"
            ],
            [
             0.8888888888888888,
             "#fdca26"
            ],
            [
             1,
             "#f0f921"
            ]
           ]
          },
          "colorway": [
           "#636efa",
           "#EF553B",
           "#00cc96",
           "#ab63fa",
           "#FFA15A",
           "#19d3f3",
           "#FF6692",
           "#B6E880",
           "#FF97FF",
           "#FECB52"
          ],
          "font": {
           "color": "#2a3f5f"
          },
          "geo": {
           "bgcolor": "white",
           "lakecolor": "white",
           "landcolor": "#E5ECF6",
           "showlakes": true,
           "showland": true,
           "subunitcolor": "white"
          },
          "hoverlabel": {
           "align": "left"
          },
          "hovermode": "closest",
          "mapbox": {
           "style": "light"
          },
          "paper_bgcolor": "white",
          "plot_bgcolor": "#E5ECF6",
          "polar": {
           "angularaxis": {
            "gridcolor": "white",
            "linecolor": "white",
            "ticks": ""
           },
           "bgcolor": "#E5ECF6",
           "radialaxis": {
            "gridcolor": "white",
            "linecolor": "white",
            "ticks": ""
           }
          },
          "scene": {
           "xaxis": {
            "backgroundcolor": "#E5ECF6",
            "gridcolor": "white",
            "gridwidth": 2,
            "linecolor": "white",
            "showbackground": true,
            "ticks": "",
            "zerolinecolor": "white"
           },
           "yaxis": {
            "backgroundcolor": "#E5ECF6",
            "gridcolor": "white",
            "gridwidth": 2,
            "linecolor": "white",
            "showbackground": true,
            "ticks": "",
            "zerolinecolor": "white"
           },
           "zaxis": {
            "backgroundcolor": "#E5ECF6",
            "gridcolor": "white",
            "gridwidth": 2,
            "linecolor": "white",
            "showbackground": true,
            "ticks": "",
            "zerolinecolor": "white"
           }
          },
          "shapedefaults": {
           "line": {
            "color": "#2a3f5f"
           }
          },
          "ternary": {
           "aaxis": {
            "gridcolor": "white",
            "linecolor": "white",
            "ticks": ""
           },
           "baxis": {
            "gridcolor": "white",
            "linecolor": "white",
            "ticks": ""
           },
           "bgcolor": "#E5ECF6",
           "caxis": {
            "gridcolor": "white",
            "linecolor": "white",
            "ticks": ""
           }
          },
          "title": {
           "x": 0.05
          },
          "xaxis": {
           "automargin": true,
           "gridcolor": "white",
           "linecolor": "white",
           "ticks": "",
           "title": {
            "standoff": 15
           },
           "zerolinecolor": "white",
           "zerolinewidth": 2
          },
          "yaxis": {
           "automargin": true,
           "gridcolor": "white",
           "linecolor": "white",
           "ticks": "",
           "title": {
            "standoff": 15
           },
           "zerolinecolor": "white",
           "zerolinewidth": 2
          }
         }
        },
        "title": {
         "text": "First 20 Important Features - CatBoost Average of Folds"
        },
        "xaxis": {
         "anchor": "y",
         "domain": [
          0,
          1
         ],
         "title": {
          "text": "Importance"
         }
        },
        "yaxis": {
         "anchor": "x",
         "domain": [
          0,
          1
         ],
         "title": {
          "text": "Feature"
         }
        }
       }
      }
     },
     "metadata": {},
     "output_type": "display_data"
    }
   ],
   "source": [
    "import plotly.express as px\n",
    "\n",
    "importance = catboost.get_feature_importance()\n",
    "\n",
    "f_importance = pd.concat([pd.Series(X.columns.to_list(),name='Feature'),\n",
    "                          pd.Series(np.mean(importance,axis=0),name=\"Importance\")],\n",
    "                         axis=1).sort_values(by='Importance',\n",
    "                                             ascending=True)\n",
    "\n",
    "fig = px.bar(f_importance.tail(20),x='Importance',y='Feature')\n",
    "fig.update_layout(\n",
    "    title_text=\"First 20 Important Features - CatBoost Average of Folds\"\n",
    ")\n",
    "fig.show()"
   ]
  },
  {
   "cell_type": "code",
   "execution_count": null,
   "metadata": {},
   "outputs": [],
   "source": [
    "predictions = catboost.predict(test)"
   ]
  },
  {
   "cell_type": "markdown",
   "metadata": {},
   "source": [
    "### XGB"
   ]
  },
  {
   "cell_type": "code",
   "execution_count": null,
   "metadata": {},
   "outputs": [],
   "source": [
    "y = train['Transported']\n",
    "X = X_selected"
   ]
  },
  {
   "cell_type": "code",
   "execution_count": null,
   "metadata": {},
   "outputs": [],
   "source": [
    "SEED = 42\n",
    "\n",
    "X_train, X_test, y_train, y_test = train_test_split(X, y, test_size = 0.20, random_state = SEED)"
   ]
  },
  {
   "cell_type": "code",
   "execution_count": null,
   "metadata": {},
   "outputs": [],
   "source": [
    "import xgboost\n",
    "from xgboost import XGBClassifier\n",
    "xgb = XGBClassifier()"
   ]
  },
  {
   "cell_type": "code",
   "execution_count": null,
   "metadata": {},
   "outputs": [
    {
     "name": "stdout",
     "output_type": "stream",
     "text": [
      "              precision    recall  f1-score   support\n",
      "\n",
      "           0       0.80      0.73      0.76       874\n",
      "           1       0.75      0.82      0.78       865\n",
      "\n",
      "    accuracy                           0.77      1739\n",
      "   macro avg       0.78      0.77      0.77      1739\n",
      "weighted avg       0.78      0.77      0.77      1739\n",
      "\n"
     ]
    },
    {
     "data": {
      "image/png": "[encoded data removed]",
      "text/plain": [
       "<Figure size 432x288 with 2 Axes>"
      ]
     },
     "metadata": {
      "needs_background": "light"
     },
     "output_type": "display_data"
    }
   ],
   "source": [
    "xgb.fit(X_train,y_train)\n",
    "pred_test = xgb.predict(X_test)\n",
    "\n",
    "cm = confusion_matrix(y_test,pred_test)\n",
    "sns.heatmap(cm, annot=True, fmt='d').set_title('Confusion matrix of XGB')\n",
    "print(classification_report(y_test, pred_test))"
   ]
  },
  {
   "cell_type": "code",
   "execution_count": null,
   "metadata": {},
   "outputs": [],
   "source": [
    "from sklearn.model_selection import GridSearchCV\n",
    "\n",
    "# defining parameter range\n",
    "param_grid = {'booster': ['gbtree','gblinear','dart'], \n",
    "              'eta': [0.001,0.01, 0.1,0.3,0.5],\n",
    "              'gamma': [0,0.5,1,10,100],\n",
    "              'max_depth': [0,3,6,10],\n",
    "              'lambda': [0,1,10],\n",
    "              'alpha': [0,1,10]} \n",
    "  \n",
    "grid = GridSearchCV(XGBClassifier(), param_grid, refit = True, verbose = 3)\n",
    "  \n",
    "# fitting the model for grid search\n",
    "grid.fit(X_train, y_train)"
   ]
  },
  {
   "cell_type": "code",
   "execution_count": null,
   "metadata": {},
   "outputs": [
    {
     "name": "stdout",
     "output_type": "stream",
     "text": [
      "{'alpha': 0, 'booster': 'gbtree', 'eta': 0.3, 'gamma': 0, 'lambda': 10, 'max_depth': 6}\n",
      "XGBClassifier(alpha=0, base_score=0.5, booster='gbtree', callbacks=None,\n",
      "              colsample_bylevel=1, colsample_bynode=1, colsample_bytree=1,\n",
      "              early_stopping_rounds=None, enable_categorical=False, eta=0.3,\n",
      "              eval_metric=None, gamma=0, gpu_id=-1, grow_policy='depthwise',\n",
      "              importance_type=None, interaction_constraints='', lambda=10,\n",
      "              learning_rate=0.300000012, max_bin=256, max_cat_to_onehot=4,\n",
      "              max_delta_step=0, max_depth=6, max_leaves=0, min_child_weight=1,\n",
      "              missing=nan, monotone_constraints='()', n_estimators=100,\n",
      "              n_jobs=0, num_parallel_tree=1, predictor='auto', ...)\n"
     ]
    }
   ],
   "source": [
    "# print best parameter after tuning\n",
    "print(grid.best_params_)\n",
    "  \n",
    "# print how our model looks after hyper-parameter tuning\n",
    "print(grid.best_estimator_)"
   ]
  },
  {
   "cell_type": "code",
   "execution_count": null,
   "metadata": {},
   "outputs": [
    {
     "name": "stdout",
     "output_type": "stream",
     "text": [
      "              precision    recall  f1-score   support\n",
      "\n",
      "           0       0.80      0.79      0.79       861\n",
      "           1       0.80      0.81      0.80       878\n",
      "\n",
      "    accuracy                           0.80      1739\n",
      "   macro avg       0.80      0.80      0.80      1739\n",
      "weighted avg       0.80      0.80      0.80      1739\n",
      "\n"
     ]
    },
    {
     "data": {
      "image/png": "[encoded data removed]",
      "text/plain": [
       "<Figure size 432x288 with 2 Axes>"
      ]
     },
     "metadata": {
      "needs_background": "light"
     },
     "output_type": "display_data"
    }
   ],
   "source": [
    "import seaborn as sns\n",
    "\n",
    "grid_predictions = grid.predict(X_test)\n",
    "\n",
    "cm = confusion_matrix(y_test,grid_predictions)\n",
    "sns.heatmap(cm, annot=True, fmt='d').set_title('Confusion matrix of XGB')\n",
    "# print classification report\n",
    "print(classification_report(y_test, grid_predictions))"
   ]
  },
  {
   "cell_type": "code",
   "execution_count": null,
   "metadata": {},
   "outputs": [],
   "source": [
    "predictions = grid.predict(test)"
   ]
  },
  {
   "cell_type": "markdown",
   "metadata": {},
   "source": [
    "### OLS"
   ]
  },
  {
   "cell_type": "code",
   "execution_count": null,
   "metadata": {},
   "outputs": [
    {
     "name": "stdout",
     "output_type": "stream",
     "text": [
      "                                 OLS Regression Results                                \n",
      "=======================================================================================\n",
      "Dep. Variable:            Transported   R-squared (uncentered):                   0.651\n",
      "Model:                            OLS   Adj. R-squared (uncentered):              0.651\n",
      "Method:                 Least Squares   F-statistic:                              1803.\n",
      "Date:                Wed, 02 Aug 2023   Prob (F-statistic):                        0.00\n",
      "Time:                        20:24:43   Log-Likelihood:                         -4772.4\n",
      "No. Observations:                8693   AIC:                                      9563.\n",
      "Df Residuals:                    8684   BIC:                                      9626.\n",
      "Df Model:                           9                                                  \n",
      "Covariance Type:            nonrobust                                                  \n",
      "==============================================================================\n",
      "                 coef    std err          t      P>|t|      [0.025      0.975]\n",
      "------------------------------------------------------------------------------\n",
      "0              0.1380      0.006     23.021      0.000       0.126       0.150\n",
      "1              0.3251      0.011     30.330      0.000       0.304       0.346\n",
      "2              0.0412      0.006      7.348      0.000       0.030       0.052\n",
      "3              0.0586      0.002     29.879      0.000       0.055       0.062\n",
      "4              0.1437      0.008     16.906      0.000       0.127       0.160\n",
      "5             -0.0001   1.32e-05     -8.877      0.000      -0.000    -9.1e-05\n",
      "6          -8.374e-05   4.26e-06    -19.653      0.000   -9.21e-05   -7.54e-05\n",
      "7           -8.26e-05   4.25e-06    -19.414      0.000   -9.09e-05   -7.43e-05\n",
      "8           3.659e-05   1.52e-05      2.403      0.016    6.75e-06    6.64e-05\n",
      "==============================================================================\n",
      "Omnibus:                      503.781   Durbin-Watson:                   1.784\n",
      "Prob(Omnibus):                  0.000   Jarque-Bera (JB):              257.700\n",
      "Skew:                           0.249   Prob(JB):                     1.10e-56\n",
      "Kurtosis:                       2.320   Cond. No.                     3.11e+03\n",
      "==============================================================================\n",
      "\n",
      "Notes:\n",
      "[1] R² is computed without centering (uncentered) since the model does not contain a constant.\n",
      "[2] Standard Errors assume that the covariance matrix of the errors is correctly specified.\n",
      "[3] The condition number is large, 3.11e+03. This might indicate that there are\n",
      "strong multicollinearity or other numerical problems.\n"
     ]
    }
   ],
   "source": [
    "y = train['Transported']\n",
    "X = X_selected\n",
    "import statsmodels.api as sm\n",
    "\n",
    "model = sm.OLS(y, X).fit()\n",
    "summary = model.summary()\n",
    "print(summary)"
   ]
  },
  {
   "cell_type": "markdown",
   "metadata": {},
   "source": [
    "### Kernel SVM"
   ]
  },
  {
   "cell_type": "code",
   "execution_count": null,
   "metadata": {},
   "outputs": [],
   "source": [
    "y = train['Transported']\n",
    "X = X_selected"
   ]
  },
  {
   "cell_type": "code",
   "execution_count": null,
   "metadata": {},
   "outputs": [],
   "source": [
    "SEED = 42\n",
    "\n",
    "X_train, X_test, y_train, y_test = train_test_split(X, y, test_size = 0.20, random_state = SEED)"
   ]
  },
  {
   "cell_type": "code",
   "execution_count": null,
   "metadata": {},
   "outputs": [
    {
     "name": "stdout",
     "output_type": "stream",
     "text": [
      "              precision    recall  f1-score   support\n",
      "\n",
      "           0       0.78      0.71      0.74       874\n",
      "           1       0.73      0.80      0.76       865\n",
      "\n",
      "    accuracy                           0.75      1739\n",
      "   macro avg       0.76      0.75      0.75      1739\n",
      "weighted avg       0.76      0.75      0.75      1739\n",
      "\n"
     ]
    },
    {
     "data": {
      "image/png": "[encoded data removed]",
      "text/plain": [
       "<Figure size 432x288 with 2 Axes>"
      ]
     },
     "metadata": {
      "needs_background": "light"
     },
     "output_type": "display_data"
    }
   ],
   "source": [
    "from sklearn.svm import SVC\n",
    "svc = SVC(kernel='rbf')\n",
    "\n",
    "svc.fit(X_train,y_train)\n",
    "pred_test = svc.predict(X_test)\n",
    "\n",
    "cm = confusion_matrix(y_test,pred_test)\n",
    "sns.heatmap(cm, annot=True, fmt='d').set_title('Confusion matrix of SVM')\n",
    "print(classification_report(y_test, pred_test))"
   ]
  },
  {
   "cell_type": "code",
   "execution_count": null,
   "metadata": {},
   "outputs": [
    {
     "name": "stdout",
     "output_type": "stream",
     "text": [
      "[CV 2/5] END ......C=50, gamma=0.05, kernel=rbf;, score=0.712 total time=   3.9s\n",
      "[CV 3/5] END ......C=50, gamma=0.05, kernel=rbf;, score=0.740 total time=   3.2s\n",
      "[CV 4/5] END ......C=50, gamma=0.05, kernel=rbf;, score=0.751 total time=   4.0s\n",
      "[CV 5/5] END ......C=50, gamma=0.05, kernel=rbf;, score=0.730 total time=   3.5s\n",
      "[CV 1/5] END ......C=50, gamma=0.03, kernel=rbf;, score=0.723 total time=   3.6s\n",
      "[CV 2/5] END ......C=50, gamma=0.03, kernel=rbf;, score=0.727 total time=   3.5s\n",
      "[CV 3/5] END ......C=50, gamma=0.03, kernel=rbf;, score=0.740 total time=   3.2s\n",
      "[CV 4/5] END ......C=50, gamma=0.03, kernel=rbf;, score=0.756 total time=   3.9s\n",
      "[CV 5/5] END ......C=50, gamma=0.03, kernel=rbf;, score=0.734 total time=   4.1s\n",
      "[CV 1/5] END ......C=50, gamma=0.01, kernel=rbf;, score=0.728 total time=   4.1s\n",
      "[CV 2/5] END ......C=50, gamma=0.01, kernel=rbf;, score=0.735 total time=   3.6s\n",
      "[CV 3/5] END ......C=50, gamma=0.01, kernel=rbf;, score=0.735 total time=   4.2s\n",
      "[CV 4/5] END ......C=50, gamma=0.01, kernel=rbf;, score=0.753 total time=   3.8s\n",
      "[CV 5/5] END ......C=50, gamma=0.01, kernel=rbf;, score=0.740 total time=   3.8s\n"
     ]
    },
    {
     "data": {
      "text/plain": [
       "GridSearchCV(estimator=SVC(),\n",
       "             param_grid={'C': [1, 5, 10, 30, 50],\n",
       "                         'gamma': ['scale', 0.1, 0.05, 0.03, 0.01],\n",
       "                         'kernel': ['rbf']},\n",
       "             verbose=3)"
      ]
     },
     "execution_count": 987,
     "metadata": {},
     "output_type": "execute_result"
    }
   ],
   "source": [
    "from sklearn.model_selection import GridSearchCV\n",
    "  \n",
    "# defining parameter range\n",
    "param_grid = {'C': [1,5, 10,30,50], \n",
    "              'gamma': ['scale',0.1,0.05, 0.03,0.01],\n",
    "              'kernel': ['rbf']} \n",
    "  \n",
    "grid = GridSearchCV(SVC(), param_grid, refit = True, verbose = 3)\n",
    "  \n",
    "# fitting the model for grid search\n",
    "grid.fit(X_train, y_train)"
   ]
  },
  {
   "cell_type": "code",
   "execution_count": null,
   "metadata": {},
   "outputs": [
    {
     "name": "stdout",
     "output_type": "stream",
     "text": [
      "{'C': 50, 'gamma': 'scale', 'kernel': 'rbf'}\n",
      "SVC(C=50)\n"
     ]
    }
   ],
   "source": [
    "# print best parameter after tuning\n",
    "print(grid.best_params_)\n",
    "  \n",
    "# print how our model looks after hyper-parameter tuning\n",
    "print(grid.best_estimator_)"
   ]
  },
  {
   "cell_type": "code",
   "execution_count": null,
   "metadata": {},
   "outputs": [
    {
     "name": "stdout",
     "output_type": "stream",
     "text": [
      "              precision    recall  f1-score   support\n",
      "\n",
      "           0       0.80      0.70      0.75       874\n",
      "           1       0.73      0.83      0.78       865\n",
      "\n",
      "    accuracy                           0.76      1739\n",
      "   macro avg       0.77      0.76      0.76      1739\n",
      "weighted avg       0.77      0.76      0.76      1739\n",
      "\n"
     ]
    },
    {
     "data": {
      "image/png": "[encoded data removed]",
      "text/plain": [
       "<Figure size 432x288 with 2 Axes>"
      ]
     },
     "metadata": {
      "needs_background": "light"
     },
     "output_type": "display_data"
    }
   ],
   "source": [
    "import seaborn as sns\n",
    "\n",
    "grid_predictions = grid.predict(X_test)\n",
    "\n",
    "cm = confusion_matrix(y_test,grid_predictions)\n",
    "sns.heatmap(cm, annot=True, fmt='d').set_title('Confusion matrix of SVM')\n",
    "# print classification report\n",
    "print(classification_report(y_test, grid_predictions))"
   ]
  },
  {
   "cell_type": "code",
   "execution_count": null,
   "metadata": {},
   "outputs": [],
   "source": [
    "predictions = grid.predict(data_test_pca)"
   ]
  },
  {
   "cell_type": "markdown",
   "metadata": {},
   "source": [
    "### Random Forest"
   ]
  },
  {
   "cell_type": "code",
   "execution_count": null,
   "metadata": {},
   "outputs": [],
   "source": [
    "y = train['Transported']\n",
    "X = X_selected"
   ]
  },
  {
   "cell_type": "code",
   "execution_count": null,
   "metadata": {},
   "outputs": [],
   "source": [
    "SEED = 42\n",
    "\n",
    "X_train, X_test, y_train, y_test = train_test_split(X, y, test_size = 0.20, random_state = SEED)"
   ]
  },
  {
   "cell_type": "code",
   "execution_count": null,
   "metadata": {},
   "outputs": [],
   "source": [
    "from sklearn.ensemble import RandomForestClassifier\n",
    "from sklearn import metrics\n",
    "rf = RandomForestClassifier(random_state=0)"
   ]
  },
  {
   "cell_type": "code",
   "execution_count": null,
   "metadata": {},
   "outputs": [
    {
     "name": "stdout",
     "output_type": "stream",
     "text": [
      "              precision    recall  f1-score   support\n",
      "\n",
      "           0       0.78      0.74      0.76       874\n",
      "           1       0.75      0.79      0.77       865\n",
      "\n",
      "    accuracy                           0.77      1739\n",
      "   macro avg       0.77      0.77      0.77      1739\n",
      "weighted avg       0.77      0.77      0.77      1739\n",
      "\n"
     ]
    },
    {
     "data": {
      "image/png": "[encoded data removed]",
      "text/plain": [
       "<Figure size 432x288 with 2 Axes>"
      ]
     },
     "metadata": {
      "needs_background": "light"
     },
     "output_type": "display_data"
    }
   ],
   "source": [
    "rf.fit(X_train,y_train)\n",
    "pred_test = rf.predict(X_test)\n",
    "\n",
    "cm = confusion_matrix(y_test,pred_test)\n",
    "sns.heatmap(cm, annot=True, fmt='d').set_title('Confusion matrix of SVM')\n",
    "print(classification_report(y_test, pred_test))"
   ]
  },
  {
   "cell_type": "code",
   "execution_count": null,
   "metadata": {},
   "outputs": [],
   "source": [
    "# defining parameter range\n",
    "param_grid = {'criterion': ['gini','entrophy','log_loss'], \n",
    "              'max_depth': [3, 5,7,10],\n",
    "              'bootstrap': [False,True],\n",
    "              'max_samples': [None,10,100,1000],\n",
    "              'ccp_alpha': [0.01,0.001,0.005]} \n",
    "  \n",
    "grid = GridSearchCV(RandomForestClassifier(), param_grid, refit = True, verbose = 3)\n",
    "  \n",
    "# fitting the model for grid search\n",
    "grid.fit(X_train, y_train)"
   ]
  },
  {
   "cell_type": "code",
   "execution_count": null,
   "metadata": {},
   "outputs": [
    {
     "name": "stdout",
     "output_type": "stream",
     "text": [
      "{'bootstrap': True, 'ccp_alpha': 0.001, 'criterion': 'gini', 'max_depth': 10, 'max_samples': None}\n",
      "RandomForestClassifier(ccp_alpha=0.001, max_depth=10)\n"
     ]
    }
   ],
   "source": [
    "# print best parameter after tuning\n",
    "print(grid.best_params_)\n",
    "  \n",
    "# print how our model looks after hyper-parameter tuning\n",
    "print(grid.best_estimator_)"
   ]
  },
  {
   "cell_type": "code",
   "execution_count": null,
   "metadata": {},
   "outputs": [
    {
     "name": "stdout",
     "output_type": "stream",
     "text": [
      "              precision    recall  f1-score   support\n",
      "\n",
      "           0       0.79      0.74      0.76       874\n",
      "           1       0.75      0.80      0.78       865\n",
      "\n",
      "    accuracy                           0.77      1739\n",
      "   macro avg       0.77      0.77      0.77      1739\n",
      "weighted avg       0.77      0.77      0.77      1739\n",
      "\n"
     ]
    },
    {
     "data": {
      "image/png": "[encoded data removed]",
      "text/plain": [
       "<Figure size 432x288 with 2 Axes>"
      ]
     },
     "metadata": {
      "needs_background": "light"
     },
     "output_type": "display_data"
    }
   ],
   "source": [
    "grid_predictions = grid.predict(X_test)\n",
    "\n",
    "cm = confusion_matrix(y_test,grid_predictions)\n",
    "sns.heatmap(cm, annot=True, fmt='d').set_title('Confusion matrix of SVM')\n",
    "# print classification report\n",
    "print(classification_report(y_test, grid_predictions))"
   ]
  },
  {
   "cell_type": "code",
   "execution_count": null,
   "metadata": {},
   "outputs": [],
   "source": [
    "predictions = rf.predict(modified_test)"
   ]
  },
  {
   "cell_type": "markdown",
   "metadata": {},
   "source": [
    "## Test Results"
   ]
  },
  {
   "cell_type": "code",
   "execution_count": null,
   "metadata": {},
   "outputs": [
    {
     "data": {
      "text/plain": [
       "(4277,)"
      ]
     },
     "execution_count": 613,
     "metadata": {},
     "output_type": "execute_result"
    }
   ],
   "source": [
    "predictions.shape"
   ]
  },
  {
   "cell_type": "code",
   "execution_count": null,
   "metadata": {},
   "outputs": [
    {
     "data": {
      "text/html": [
       "<div>\n",
       "<style scoped>\n",
       "    .dataframe tbody tr th:only-of-type {\n",
       "        vertical-align: middle;\n",
       "    }\n",
       "\n",
       "    .dataframe tbody tr th {\n",
       "        vertical-align: top;\n",
       "    }\n",
       "\n",
       "    .dataframe thead th {\n",
       "        text-align: right;\n",
       "    }\n",
       "</style>\n",
       "<table border=\"1\" class=\"dataframe\">\n",
       "  <thead>\n",
       "    <tr style=\"text-align: right;\">\n",
       "      <th></th>\n",
       "      <th>PassengerId</th>\n",
       "      <th>Transported</th>\n",
       "    </tr>\n",
       "  </thead>\n",
       "  <tbody>\n",
       "    <tr>\n",
       "      <th>0</th>\n",
       "      <td>0013_01</td>\n",
       "      <td>True</td>\n",
       "    </tr>\n",
       "    <tr>\n",
       "      <th>1</th>\n",
       "      <td>0018_01</td>\n",
       "      <td>False</td>\n",
       "    </tr>\n",
       "    <tr>\n",
       "      <th>2</th>\n",
       "      <td>0019_01</td>\n",
       "      <td>True</td>\n",
       "    </tr>\n",
       "    <tr>\n",
       "      <th>3</th>\n",
       "      <td>0021_01</td>\n",
       "      <td>False</td>\n",
       "    </tr>\n",
       "    <tr>\n",
       "      <th>4</th>\n",
       "      <td>0023_01</td>\n",
       "      <td>False</td>\n",
       "    </tr>\n",
       "    <tr>\n",
       "      <th>...</th>\n",
       "      <td>...</td>\n",
       "      <td>...</td>\n",
       "    </tr>\n",
       "    <tr>\n",
       "      <th>4272</th>\n",
       "      <td>9266_02</td>\n",
       "      <td>False</td>\n",
       "    </tr>\n",
       "    <tr>\n",
       "      <th>4273</th>\n",
       "      <td>9269_01</td>\n",
       "      <td>True</td>\n",
       "    </tr>\n",
       "    <tr>\n",
       "      <th>4274</th>\n",
       "      <td>9271_01</td>\n",
       "      <td>False</td>\n",
       "    </tr>\n",
       "    <tr>\n",
       "      <th>4275</th>\n",
       "      <td>9273_01</td>\n",
       "      <td>False</td>\n",
       "    </tr>\n",
       "    <tr>\n",
       "      <th>4276</th>\n",
       "      <td>9277_01</td>\n",
       "      <td>False</td>\n",
       "    </tr>\n",
       "  </tbody>\n",
       "</table>\n",
       "<p>4277 rows × 2 columns</p>\n",
       "</div>"
      ],
      "text/plain": [
       "     PassengerId  Transported\n",
       "0        0013_01         True\n",
       "1        0018_01        False\n",
       "2        0019_01         True\n",
       "3        0021_01        False\n",
       "4        0023_01        False\n",
       "...          ...          ...\n",
       "4272     9266_02        False\n",
       "4273     9269_01         True\n",
       "4274     9271_01        False\n",
       "4275     9273_01        False\n",
       "4276     9277_01        False\n",
       "\n",
       "[4277 rows x 2 columns]"
      ]
     },
     "execution_count": 614,
     "metadata": {},
     "output_type": "execute_result"
    }
   ],
   "source": [
    "test_results = {'PassengerId':test_id, 'Transported':predictions}\n",
    "test_results = pd.DataFrame(test_results)\n",
    "test_results['Transported'] = test_results['Transported'].astype(bool)\n",
    "test_results"
   ]
  },
  {
   "cell_type": "code",
   "execution_count": null,
   "metadata": {},
   "outputs": [],
   "source": [
    "test_results.to_csv('C:/Users/User/Desktop/Kaggle - Spaceship Titanic/sample_submission.csv',index=False)"
   ]
  }
 ],
 "metadata": {
  "kernelspec": {
   "display_name": "Python 3",
   "language": "python",
   "name": "python3"
  },
  "language_info": {
   "codemirror_mode": {
    "name": "ipython",
    "version": 3
   },
   "file_extension": ".py",
   "mimetype": "text/x-python",
   "name": "python",
   "nbconvert_exporter": "python",
   "pygments_lexer": "ipython3",
   "version": "3.9.13"
  },
  "orig_nbformat": 4
 },
 "nbformat": 4,
 "nbformat_minor": 2
}
